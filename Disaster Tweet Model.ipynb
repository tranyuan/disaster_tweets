{
 "cells": [
  {
   "cell_type": "markdown",
   "id": "730817de",
   "metadata": {
    "ExecuteTime": {
     "end_time": "2023-08-22T02:21:39.673887Z",
     "start_time": "2023-08-22T02:21:39.655879Z"
    }
   },
   "source": [
    "Github repo link: https://github.com/KenMcCarthy24/DTSA_5511_Disaster_Tweets"
   ]
  },
  {
   "cell_type": "markdown",
   "id": "b1952c9c",
   "metadata": {},
   "source": [
    "# Introduction"
   ]
  },
  {
   "cell_type": "markdown",
   "id": "6282d4e1",
   "metadata": {},
   "source": [
    "The challenge, at hand focuses on natural language processing (NLP). Involves creating a machine learning model to categorize tweets as either disaster related messages or not. NLP is a field of intelligence that deals with how computers interact with language. It covers tasks like classifying text analyzing sentiments translating languages and more.\r\n",
    "\r\n",
    "In this task the aim is to use NLP methods to examine tweets and determine if they discuss disasters. With Twitter being widely used for communication, during emergencies automating the identification of tweets related to disasters can greatly benefit organizations engaged in disaster response and news coverage.\r\n",
    "\r\n",
    "The dataset provided for this task consists of 7,613 tweets, each treated as a data point. Every tweet has five attributes; \"id,\" \"keyword,\" \"location,\" \"text,\" and \"target.\" The \"id\" attribute uniquely identifies each tweet the \"text\" attribute contains the tweets content and the \"target\" attribute indicates whether the tweet pertains to a disaster (1) or not (0).\r\n",
    "\r\n",
    "The dataset has dimensions of 7,613 rows by 5 columns.\r\n",
    "The data is organized in a format, where each row represents one tweet and each column holds details or characteristics of the tweet. The main focus, for analysis and modeling lies in the \"text\" column, which contains the text content of the tweets. While columns like \"keyword\" and \"location\" offer context they are not directly used for classification purposes.\r\n",
    "\r\n",
    "Participants in the competition will utilize NLP methods, such, as text preprocessing, feature extraction and model selection to build classifiers that can accurately determine if a given tweet pertains to a genuine disaster. This challenge allows data scientists to delve into NLP techniques and apply them to real world data that carries significance.\r\n"
   ]
  },
  {
   "cell_type": "code",
   "execution_count": 39,
   "id": "9e93e65f",
   "metadata": {
    "ExecuteTime": {
     "end_time": "2023-08-22T02:29:16.976820Z",
     "start_time": "2023-08-22T02:29:12.630525Z"
    }
   },
   "outputs": [],
   "source": [
    "import re\n",
    "from langdetect import detect\n",
    "from nltk.corpus import stopwords\n",
    "from nltk.tokenize import word_tokenize\n",
    "from sklearn.model_selection import train_test_split\n",
    "from sklearn.preprocessing import LabelEncoder\n",
    "from tensorflow.keras.preprocessing.text import Tokenizer\n",
    "from tensorflow.keras.preprocessing.sequence import pad_sequences\n",
    "from tensorflow.keras.models import Sequential\n",
    "from tensorflow.keras.layers import Embedding, LSTM, Dense, Dropout\n",
    "from tensorflow.keras.callbacks import ModelCheckpoint, History, EarlyStopping\n",
    "import pandas as pd\n",
    "import numpy as np\n",
    "import matplotlib.pyplot as plt\n",
    "import seaborn as sns\n",
    "import random\n",
    "from tensorflow.keras import backend as K\n",
    "import json\n",
    "from tensorflow.keras.layers import Bidirectional, GRU\n",
    "from sklearn.model_selection import RandomizedSearchCV\n",
    "from keras.wrappers.scikit_learn import KerasClassifier\n",
    "from keras.optimizers import Adam\n",
    "from sklearn.metrics import confusion_matrix"
   ]
  },
  {
   "cell_type": "markdown",
   "id": "bca302ff",
   "metadata": {},
   "source": [
    "# Brief description of the problem and data"
   ]
  },
  {
   "cell_type": "code",
   "execution_count": 2,
   "id": "e50af2f9",
   "metadata": {
    "ExecuteTime": {
     "end_time": "2023-08-22T02:29:24.827389Z",
     "start_time": "2023-08-22T02:29:24.758326Z"
    }
   },
   "outputs": [
    {
     "name": "stdout",
     "output_type": "stream",
     "text": [
      "(7613, 5)\n"
     ]
    },
    {
     "data": {
      "text/html": [
       "<div>\n",
       "<style scoped>\n",
       "    .dataframe tbody tr th:only-of-type {\n",
       "        vertical-align: middle;\n",
       "    }\n",
       "\n",
       "    .dataframe tbody tr th {\n",
       "        vertical-align: top;\n",
       "    }\n",
       "\n",
       "    .dataframe thead th {\n",
       "        text-align: right;\n",
       "    }\n",
       "</style>\n",
       "<table border=\"1\" class=\"dataframe\">\n",
       "  <thead>\n",
       "    <tr style=\"text-align: right;\">\n",
       "      <th></th>\n",
       "      <th>id</th>\n",
       "      <th>keyword</th>\n",
       "      <th>location</th>\n",
       "      <th>text</th>\n",
       "      <th>target</th>\n",
       "    </tr>\n",
       "  </thead>\n",
       "  <tbody>\n",
       "    <tr>\n",
       "      <th>0</th>\n",
       "      <td>1</td>\n",
       "      <td>NaN</td>\n",
       "      <td>NaN</td>\n",
       "      <td>Our Deeds are the Reason of this #earthquake M...</td>\n",
       "      <td>1</td>\n",
       "    </tr>\n",
       "    <tr>\n",
       "      <th>1</th>\n",
       "      <td>4</td>\n",
       "      <td>NaN</td>\n",
       "      <td>NaN</td>\n",
       "      <td>Forest fire near La Ronge Sask. Canada</td>\n",
       "      <td>1</td>\n",
       "    </tr>\n",
       "    <tr>\n",
       "      <th>2</th>\n",
       "      <td>5</td>\n",
       "      <td>NaN</td>\n",
       "      <td>NaN</td>\n",
       "      <td>All residents asked to 'shelter in place' are ...</td>\n",
       "      <td>1</td>\n",
       "    </tr>\n",
       "    <tr>\n",
       "      <th>3</th>\n",
       "      <td>6</td>\n",
       "      <td>NaN</td>\n",
       "      <td>NaN</td>\n",
       "      <td>13,000 people receive #wildfires evacuation or...</td>\n",
       "      <td>1</td>\n",
       "    </tr>\n",
       "    <tr>\n",
       "      <th>4</th>\n",
       "      <td>7</td>\n",
       "      <td>NaN</td>\n",
       "      <td>NaN</td>\n",
       "      <td>Just got sent this photo from Ruby #Alaska as ...</td>\n",
       "      <td>1</td>\n",
       "    </tr>\n",
       "  </tbody>\n",
       "</table>\n",
       "</div>"
      ],
      "text/plain": [
       "   id keyword location                                               text  \\\n",
       "0   1     NaN      NaN  Our Deeds are the Reason of this #earthquake M...   \n",
       "1   4     NaN      NaN             Forest fire near La Ronge Sask. Canada   \n",
       "2   5     NaN      NaN  All residents asked to 'shelter in place' are ...   \n",
       "3   6     NaN      NaN  13,000 people receive #wildfires evacuation or...   \n",
       "4   7     NaN      NaN  Just got sent this photo from Ruby #Alaska as ...   \n",
       "\n",
       "   target  \n",
       "0       1  \n",
       "1       1  \n",
       "2       1  \n",
       "3       1  \n",
       "4       1  "
      ]
     },
     "execution_count": 2,
     "metadata": {},
     "output_type": "execute_result"
    }
   ],
   "source": [
    "train_file = \"./nlp-getting-started/train.csv\"\n",
    "train_df = pd.read_csv(train_file)\n",
    "test_file = \"./nlp-getting-started/test.csv\"\n",
    "test_df = pd.read_csv(test_file)\n",
    "print(train_df.shape)\n",
    "train_df.head()\n"
   ]
  },
  {
   "cell_type": "code",
   "execution_count": 3,
   "id": "656fb4e0-a024-4358-b334-afdb6be2390b",
   "metadata": {},
   "outputs": [
    {
     "name": "stdout",
     "output_type": "stream",
     "text": [
      "(3263, 4)\n"
     ]
    },
    {
     "data": {
      "text/html": [
       "<div>\n",
       "<style scoped>\n",
       "    .dataframe tbody tr th:only-of-type {\n",
       "        vertical-align: middle;\n",
       "    }\n",
       "\n",
       "    .dataframe tbody tr th {\n",
       "        vertical-align: top;\n",
       "    }\n",
       "\n",
       "    .dataframe thead th {\n",
       "        text-align: right;\n",
       "    }\n",
       "</style>\n",
       "<table border=\"1\" class=\"dataframe\">\n",
       "  <thead>\n",
       "    <tr style=\"text-align: right;\">\n",
       "      <th></th>\n",
       "      <th>id</th>\n",
       "      <th>keyword</th>\n",
       "      <th>location</th>\n",
       "      <th>text</th>\n",
       "    </tr>\n",
       "  </thead>\n",
       "  <tbody>\n",
       "    <tr>\n",
       "      <th>0</th>\n",
       "      <td>0</td>\n",
       "      <td>NaN</td>\n",
       "      <td>NaN</td>\n",
       "      <td>Just happened a terrible car crash</td>\n",
       "    </tr>\n",
       "    <tr>\n",
       "      <th>1</th>\n",
       "      <td>2</td>\n",
       "      <td>NaN</td>\n",
       "      <td>NaN</td>\n",
       "      <td>Heard about #earthquake is different cities, s...</td>\n",
       "    </tr>\n",
       "    <tr>\n",
       "      <th>2</th>\n",
       "      <td>3</td>\n",
       "      <td>NaN</td>\n",
       "      <td>NaN</td>\n",
       "      <td>there is a forest fire at spot pond, geese are...</td>\n",
       "    </tr>\n",
       "    <tr>\n",
       "      <th>3</th>\n",
       "      <td>9</td>\n",
       "      <td>NaN</td>\n",
       "      <td>NaN</td>\n",
       "      <td>Apocalypse lighting. #Spokane #wildfires</td>\n",
       "    </tr>\n",
       "    <tr>\n",
       "      <th>4</th>\n",
       "      <td>11</td>\n",
       "      <td>NaN</td>\n",
       "      <td>NaN</td>\n",
       "      <td>Typhoon Soudelor kills 28 in China and Taiwan</td>\n",
       "    </tr>\n",
       "  </tbody>\n",
       "</table>\n",
       "</div>"
      ],
      "text/plain": [
       "   id keyword location                                               text\n",
       "0   0     NaN      NaN                 Just happened a terrible car crash\n",
       "1   2     NaN      NaN  Heard about #earthquake is different cities, s...\n",
       "2   3     NaN      NaN  there is a forest fire at spot pond, geese are...\n",
       "3   9     NaN      NaN           Apocalypse lighting. #Spokane #wildfires\n",
       "4  11     NaN      NaN      Typhoon Soudelor kills 28 in China and Taiwan"
      ]
     },
     "execution_count": 3,
     "metadata": {},
     "output_type": "execute_result"
    }
   ],
   "source": [
    "print(test_df.shape)\n",
    "test_df.head()"
   ]
  },
  {
   "cell_type": "markdown",
   "id": "d34e9019",
   "metadata": {},
   "source": [
    "The data has five columns: id, keyword, location, text and target\n",
    "For this project, the objective is to utilize natural language processing to predict the target variable. Consequently, the keyword and location columns will be disregarded, with only the text column being used for prediction purposes."
   ]
  },
  {
   "cell_type": "markdown",
   "id": "08f86951",
   "metadata": {},
   "source": [
    "# Data Cleaning and Exploratory Data Analysis"
   ]
  },
  {
   "cell_type": "markdown",
   "id": "85c1b814",
   "metadata": {},
   "source": [
    "The exploratory data analysis (EDA) of the dataset revealed several important insights and guided the subsequent steps in the analysis pipeline. Upon inspection, the dataset contained five columns: id, keyword, location, text, and target. Since the primary objective of the project was to predict the target variable using natural language processing (NLP) techniques, attention was focused on the text column, while the keyword and location columns were disregarded. Initial data cleaning procedures involved handling missing values, ensuring the dataset's integrity for further analysis.\r\n",
    "\r\n",
    "Following data cleaning, the EDA delved into understanding the distribution of the target variable, which indicated whether a tweet pertained to a real disaster or not. This step was crucial for gauging the dataset's class balance and informing the selection of appropriate evaluation metrics and modeling strategies. Additionally, analyzing the distribution of text lengths provided insights into the typical length of tweets in the dataset, guiding decisions related to text preprocessing and feature engineering.\r\n",
    "\r\n",
    "Furthermore, word frequency analysis was conducted to identify the most common words and phrases in disaster and non-disaster tweets separately. This analysis offered valuable insights into the language patterns prevalent in both types of tweets and informed potential keywords associated with real disasters.\r\n",
    "\r\n",
    "Moving forward, the plan of analysis involves comprehensive preprocessing of the text data to remove noise and standardize it for modeling. Various feature extraction techniques, including bag-of-words, TF-IDF, and word embeddings, will be explored to transform the text data into numerical representations suitable for machine learning algorithms. Subsequently, multiple machine learning models, such as logistic regression, random forest, and support vector machines, will be trained and evaluated on the preprocessed dataset. Additionally, advanced NLP techniques, including recurrent neural networks (RNNs), may be employed to further enhance predictive performance. The iterative nature of the analysis will involve fine-tuning model hyperparameters and selecting the most effective modeling approach based on performance metrics and domain knowledge.dictive performance."
   ]
  },
  {
   "cell_type": "code",
   "execution_count": 4,
   "id": "3a627d17",
   "metadata": {
    "ExecuteTime": {
     "end_time": "2023-08-22T02:30:43.666943Z",
     "start_time": "2023-08-22T02:30:43.582866Z"
    }
   },
   "outputs": [
    {
     "name": "stdout",
     "output_type": "stream",
     "text": [
      "target\n",
      "0    57.034021\n",
      "1    42.965979\n",
      "Name: count, dtype: float64\n"
     ]
    },
    {
     "data": {
      "image/png": "[encoded data removed]",
      "text/plain": [
       "<Figure size 800x600 with 1 Axes>"
      ]
     },
     "metadata": {},
     "output_type": "display_data"
    }
   ],
   "source": [
    "label_counts = train_df['target'].value_counts()\n",
    "\n",
    "# Calculate the percentage of each label\n",
    "label_percentages = label_counts / len(train_df) * 100\n",
    "\n",
    "# Display the percentages\n",
    "print(label_percentages)\n",
    "plt.figure(figsize=(8, 6))\n",
    "sns.countplot(x='target', data=train_df)\n",
    "plt.title('Distribution of Labels')\n",
    "plt.xlabel('Label')\n",
    "plt.ylabel('Count')\n",
    "plt.show()"
   ]
  },
  {
   "cell_type": "markdown",
   "id": "46707f68",
   "metadata": {},
   "source": [
    "In the training data, approximately 43% of the tweets are related to disasters, while the remaining 57% are not. Although there is a slight imbalance towards tweets that are not about disasters, the extent of the imbalance is not significant enough to warrant the use of data balancing techniques."
   ]
  },
  {
   "cell_type": "code",
   "execution_count": 5,
   "id": "3fadf0d9",
   "metadata": {
    "ExecuteTime": {
     "end_time": "2023-08-22T02:31:38.335594Z",
     "start_time": "2023-08-22T02:31:38.318587Z"
    }
   },
   "outputs": [
    {
     "name": "stdout",
     "output_type": "stream",
     "text": [
      "Look at the previous battles. Citizens were committing suicide so to not be under American control. The bomb was the only way. @NBCNews\n",
      "\n",
      ":StarMade: :Stardate 3: :Planetary Annihilation:: http://t.co/I2hHvIUmTm via @YouTube\n",
      "\n",
      "@teahivetweets You would get inundated!!\n",
      "\n",
      "4 Common Running Injuries and How to Avoid Them http://t.co/E5cNS6ufPA\n",
      "\n",
      "When high fashion and food collide: Gucci has chosen one of ShanghaiÛªs most popular commercial avenue... http://t.co/MkRxQZeHmY #fashion\n",
      "\n",
      "Cutting for some celebrety and then posting the wounds online is a no-go.\n",
      "\n",
      "Simmering beneath #NHL good times the league's own concussion issues @PioneerPress\n",
      "\n",
      "http://t.co/zl7FhUCxHL\n",
      "\n",
      "Why put out a fire when it's still burning.\n",
      "\n",
      "#Putin decree results in destruction of 10 tons of imported cheese near Russia-Ukraine border. RT @Independent http://t.co/K3pnNktlXh\n",
      "\n",
      "#NowPlaying Last Smoke Before The Snowstorm by Benjamin Francis Leftwich - hopefully new album coming soon :) ? http://t.co/5kjy8G0i4y\n",
      "\n",
      "OMG OMG OMG #JustinBieber and #HarryStyles have collided in a nuclear accident at #Cern ^oo^\n",
      "\n",
      "#HarryBeCareful http://t.co/p4huQUNDQi\n",
      "\n",
      "1/2 of the deaths in red-light running crashes are pedestrians bicyclists &amp; other vehicle occupants that are hit by the red-light runners.\n",
      "\n",
      "(?EudryLantiqua?) Hollywood Movie About Trapped Miners Released in Chile: 'The 33' Holly... http://t.co/us1DMdXZVb (?EudryLantiqua?)\n",
      "\n",
      "#handbag #fashion #style http://t.co/hPd3SNM6oy Vintage Coach Purse Camera Bag Cross Body #9973\n",
      "\n",
      "$16.99 (0 Bids)\n",
      "Û_ http://t.co/GSmdDmu9Pu\n",
      "\n",
      "Snowstorm planned outside #Rome's St Mary Major tonight - annual occasion artificial snow remembering summer snow in 358 AD on same spot.\n",
      "\n",
      "Watching 'The Desolation of Smaug' in Spanish is a hell of a drug\n",
      "\n",
      "If you're reading this go accidentally fall off a cliff mate\n",
      "\n",
      "Thunder pounds north goes black\n",
      "a deep bruise on the sky's chest\n",
      "wind cries its pain.  \n",
      "A summer storm has a tough life\n",
      "short violent.\n",
      "\n",
      "Turkish newlyweds donate wedding money - what a beautiful gesture! Still have faith in humanity. http://t.co/o1eNHjrkJd\n",
      "\n",
      "@batfanuk we enjoyed the show today. Great fun. The emergency non evacuation was interesting. Have a great run.\n",
      "\n",
      "#computers #gadgets Two giant cranes holding a bridge collapse into nearby homes http://t.co/UZIWgZRynY #slingnews\n",
      "\n",
      "Dc I love you but please obliterate power girl\n",
      "\n",
      "'But right now you're only annoyed by them. If you actually hung out with them you'd see that they mean no harm.' @AudaciousSpunk\n",
      "\n",
      "Families to sue over Legionnaires: More than 40 families affected by the fatal outbreak of Legionnaires' disea... http://t.co/Paje5mxN1z\n",
      "\n",
      "I don't laugh out loud at many things. But man I really lol @ the big bang theory.\n",
      "\n",
      "VIDEO: 'We're picking up bodies from water' - Rescuers are searching for hundreds of migrants in the Mediterranean... http://t.co/yhQU5UV6Ok\n",
      "\n",
      "@TheHammers_ @tonycottee1986 alsowhat if some of the 1st team players got injured?Then Bilic would get slated for playing themhe can't win\n",
      "\n",
      "A1: I started writing when I couldn't talk about my trauma in therapy it was the only way I could communicate #gravitychat\n",
      "\n",
      "'you canÛªt research collective memory' The 1st Rule of writing diverse should be don't touch another group's tragedy https://t.co/PHFoEozYPS\n",
      "\n",
      "meek mill should join isis since he loves suicide-bombing his career for no good reason\n",
      "\n"
     ]
    }
   ],
   "source": [
    "# Set the number of random texts to print\n",
    "num_texts = 30\n",
    "\n",
    "# Select random row indices\n",
    "random_indices = random.sample(range(len(train_df)), num_texts)\n",
    "\n",
    "# Print out random texts\n",
    "for index in random_indices:\n",
    "    print(train_df.loc[index, \"text\"])\n",
    "    print()  # Add an empty line for readability"
   ]
  },
  {
   "cell_type": "markdown",
   "id": "cd93ae33",
   "metadata": {},
   "source": [
    "In order to make the tweets to grab text that removing noise and standardizing the text format. \n",
    "\n",
    "\n",
    "This code snippet defines a preprocessing function, preprocess_text, which performs several text cleaning steps on input text data.\n",
    "\r\n",
    "It removes image links by using a regular expression to match URLs.\r\n",
    "It replaces new line indicators with spaces to ensure consistency in text formatting.\r\n",
    "It removes user handles by using a regular expression to match Twitter handles.\r\n",
    "It removes punctuation characters using string translation.\r\n",
    "It tokenizes the text into individual words using NLTK's word_tokenize function.\r\n",
    "It removes stop words from the tokenized text. Stop words are common words like \"the,\" \"is,\" \"and,\" etc., that typically do not carry significant meaning in text analysis.\r\n",
    "It rejoins the filtered tokens into a single string.\r\n",
    "It removes numbers from the text using a regular expression.\r\n",
    "It cleans up any double or triple spaces in the text.\r\n",
    "It removes non-English words by detecting the language of the text using the langdetect library and discarding text that is not in English."
   ]
  },
  {
   "cell_type": "code",
   "execution_count": 6,
   "id": "bf23fc17",
   "metadata": {
    "ExecuteTime": {
     "end_time": "2023-08-22T02:32:12.149444Z",
     "start_time": "2023-08-22T02:32:12.134438Z"
    }
   },
   "outputs": [],
   "source": [
    "# Define stop words set for English\n",
    "stop_words = set(stopwords.words('english'))\n",
    "\n",
    "# Preprocessing function with stop words removal\n",
    "def preprocess_text(text):\n",
    "    # If text is empty, return empty string\n",
    "    if not text:\n",
    "        return ''\n",
    "    \n",
    "    # Remove image links\n",
    "    text = re.sub(r'http[s]?://(?:[a-zA-Z]|[0-9]|[$-_@.&+]|[!*\\\\(\\\\),]|(?:%[0-9a-fA-F][0-9a-fA-F]))+', '', text)\n",
    "    # Replace new line indicators with space\n",
    "    text = text.replace(\"\\n\", \" \")\n",
    "    # Remove user handles\n",
    "    text = re.sub(r'@\\S+', '', text)\n",
    "    # Remove punctuation\n",
    "    punctuation = '!\"#$%&\\'()*+,-./:;<=>?@[\\\\]^_`{|}~'\n",
    "    text = text.translate(str.maketrans('', '', punctuation))\n",
    "    # Tokenize text\n",
    "    tokens = word_tokenize(text)\n",
    "    # Remove stop words\n",
    "    filtered_tokens = [word for word in tokens if word.lower() not in stop_words]\n",
    "    # Join tokens back into text\n",
    "    text = ' '.join(filtered_tokens)\n",
    "    # Remove numbers\n",
    "    text = re.sub(r'\\d+', '', text)\n",
    "    # Clean up double or triple spaces\n",
    "    text = re.sub(r'\\s+', ' ', text)\n",
    "    # Remove non-English words (if possible)\n",
    "    try:\n",
    "        if detect(text) != 'en':\n",
    "            text = ''\n",
    "    except:\n",
    "        pass  # Ignore language detection errors\n",
    "    \n",
    "    return text.strip()\n",
    "\n"
   ]
  },
  {
   "cell_type": "markdown",
   "id": "eda3a6d9",
   "metadata": {},
   "source": [
    "Now the same sample set of tweets will be put through this `make_clean_words_list()` function to get a cleaned set of words for each tweet to be used for classification."
   ]
  },
  {
   "cell_type": "code",
   "execution_count": 7,
   "id": "e1863314",
   "metadata": {
    "ExecuteTime": {
     "end_time": "2023-08-22T02:32:14.622471Z",
     "start_time": "2023-08-22T02:32:14.526385Z"
    }
   },
   "outputs": [],
   "source": [
    "train_df['preprocessed_text'] = train_df['text'].apply(preprocess_text)"
   ]
  },
  {
   "cell_type": "code",
   "execution_count": 8,
   "id": "b02d56c0-0dcc-4eb4-9347-a45c21dadf1d",
   "metadata": {},
   "outputs": [
    {
     "name": "stdout",
     "output_type": "stream",
     "text": [
      "Look previous battles Citizens committing suicide American control bomb way\n",
      "\n",
      "StarMade Stardate Planetary Annihilation via\n",
      "\n",
      "\n",
      "\n",
      "Common Running Injuries Avoid\n",
      "\n",
      "high fashion food collide Gucci chosen one ShanghaiÛªs popular commercial avenue fashion\n",
      "\n",
      "Cutting celebrety posting wounds online nogo\n",
      "\n",
      "Simmering beneath NHL good times leagues concussion issues\n",
      "\n",
      "put fire still burning\n",
      "\n",
      "Putin decree results destruction tons imported cheese near RussiaUkraine border RT\n",
      "\n",
      "NowPlaying Last Smoke Snowstorm Benjamin Francis Leftwich hopefully new album coming soon\n",
      "\n",
      "OMG OMG OMG JustinBieber HarryStyles collided nuclear accident Cern oo HarryBeCareful\n",
      "\n",
      "deaths redlight running crashes pedestrians bicyclists amp vehicle occupants hit redlight runners\n",
      "\n",
      "EudryLantiqua Hollywood Movie Trapped Miners Released Chile Holly EudryLantiqua\n",
      "\n",
      "handbag fashion style Vintage Coach Purse Camera Bag Cross Body Bids Û\n",
      "\n",
      "Snowstorm planned outside Romes St Mary Major tonight annual occasion artificial snow remembering summer snow AD spot\n",
      "\n",
      "Watching Desolation Smaug Spanish hell drug\n",
      "\n",
      "youre reading go accidentally fall cliff mate\n",
      "\n",
      "Thunder pounds north goes black deep bruise skys chest wind cries pain summer storm tough life short violent\n",
      "\n",
      "Turkish newlyweds donate wedding money beautiful gesture Still faith humanity\n",
      "\n",
      "enjoyed show today Great fun emergency non evacuation interesting great run\n",
      "\n",
      "computers gadgets Two giant cranes holding bridge collapse nearby homes slingnews\n",
      "\n",
      "Dc love please obliterate power girl\n",
      "\n",
      "right youre annoyed actually hung youd see mean harm\n",
      "\n",
      "\n",
      "\n",
      "dont laugh loud many things man really lol big bang theory\n",
      "\n",
      "VIDEO picking bodies water Rescuers searching hundreds migrants Mediterranean\n",
      "\n",
      "alsowhat st team players got injuredThen Bilic would get slated playing themhe cant win\n",
      "\n",
      "A started writing couldnt talk trauma therapy way could communicate gravitychat\n",
      "\n",
      "canÛªt research collective memory st Rule writing diverse dont touch another groups tragedy\n",
      "\n",
      "meek mill join isis since loves suicidebombing career good reason\n",
      "\n"
     ]
    }
   ],
   "source": [
    "for index in random_indices:\n",
    "    print(train_df.loc[index, 'preprocessed_text'])\n",
    "    print()  # Add an empty line for readability"
   ]
  },
  {
   "cell_type": "markdown",
   "id": "fde8a841",
   "metadata": {},
   "source": [
    "The texts appear promising upon initial inspection. They have undergone significant refinement, resulting in the removal of extraneous and unnecessary words. Consequently, each text predominantly consists of terms that are relevant and potentially useful for classification purposes."
   ]
  },
  {
   "cell_type": "markdown",
   "id": "b965a843",
   "metadata": {},
   "source": [
    "# Model Architecture "
   ]
  },
  {
   "cell_type": "code",
   "execution_count": 9,
   "id": "52ca2d66-3cc7-4b46-a2e3-aba5981938f9",
   "metadata": {},
   "outputs": [],
   "source": [
    "def custom_f1_score(y_true, y_pred):\n",
    "    # Define the true positives, false positives, and false negatives\n",
    "    tp = K.sum(K.round(K.clip(y_true * y_pred, 0, 1)))\n",
    "    fp = K.sum(K.round(K.clip(y_pred - y_true, 0, 1)))\n",
    "    fn = K.sum(K.round(K.clip(y_true - y_pred, 0, 1)))\n",
    "\n",
    "    # Calculate the precision and recall\n",
    "    precision = tp / (tp + fp + K.epsilon())\n",
    "    recall = tp / (tp + fn + K.epsilon())\n",
    "\n",
    "    # Calculate the F1 score\n",
    "    f1_score = 2 * ((precision * recall) / (precision + recall + K.epsilon()))\n",
    "\n",
    "    return f1_score"
   ]
  },
  {
   "cell_type": "code",
   "execution_count": 14,
   "id": "07897e03-12ca-45a2-8f5a-1aff3086aa22",
   "metadata": {},
   "outputs": [],
   "source": [
    "# Tokenize text data\n",
    "tokenizer = Tokenizer()\n",
    "tokenizer.fit_on_texts(train_df['preprocessed_text'])\n",
    "sequences = tokenizer.texts_to_sequences(train_df['preprocessed_text'])\n",
    "\n",
    "    # Pad sequences to ensure uniform length\n",
    "max_len = max(len(seq) for seq in sequences)\n",
    "sequences_padded = pad_sequences(sequences, maxlen=max_len, padding='post')\n",
    "\n",
    "test_df['preprocessed_text'] = test_df['text'].apply(preprocess_text)\n",
    "test_sequences = tokenizer.texts_to_sequences(test_df['preprocessed_text'])\n",
    "\n",
    "# Pad sequences for uniform length (using the maximum length from the training data)\n",
    "sequences_padded_test = pad_sequences(test_sequences, maxlen=max_len, padding='post')"
   ]
  },
  {
   "cell_type": "code",
   "execution_count": 44,
   "id": "36e6660a-6f7d-4740-b829-3cd2568bd880",
   "metadata": {},
   "outputs": [],
   "source": [
    "X_train, X_val, y_train, y_val = train_test_split(sequences_padded,  train_df['target'].values, test_size=0.2, random_state=42)        "
   ]
  },
  {
   "cell_type": "code",
   "execution_count": 45,
   "id": "180cb8b2-06fd-4012-8f21-d984b47993c8",
   "metadata": {},
   "outputs": [],
   "source": [
    "\n",
    "\n",
    "def train_model(model):\n",
    "    # Preprocess text data\n",
    "\n",
    "\n",
    "    # Define model checkpoint to save best weights\n",
    "    checkpoint = ModelCheckpoint('model_weights.h5', monitor='val_loss', save_best_only=True, verbose=1)\n",
    "\n",
    "    # Define early stopping callback\n",
    "    early_stopping = EarlyStopping(monitor=\"val_loss\", patience=10, verbose=1)\n",
    "\n",
    "    # Define history callback to collect training metrics\n",
    "    history_callback = History()\n",
    "     \n",
    "    # Train the model\n",
    "\n",
    "    history = model.fit(X_train, y_train, epochs=100, batch_size=32, validation_data=(X_val, y_val), callbacks=[checkpoint, early_stopping, history_callback])\n",
    "\n",
    "    # Save training history to a JSON file\n",
    "    history_dict = history_callback.history\n",
    "    with open('history.json', 'w') as json_file:\n",
    "        json.dump(history_dict, json_file)\n",
    "\n",
    "    # Plot training history\n",
    "    plt.plot(np.arange(1, len(history.history['loss']) + 1), history.history['loss'], label='train_loss')\n",
    "    plt.plot(np.arange(1, len(history.history['val_loss']) + 1), history.history['val_loss'], label='val_loss')\n",
    "    plt.plot(np.arange(1, len(history.history[\"accuracy\"]) + 1), history.history['accuracy'], label='train_accuracy')\n",
    "    plt.plot(np.arange(1, len(history.history['val_accuracy']) + 1), history.history['val_accuracy'], label='val_accuracy')\n",
    "    plt.xlabel('Epochs')\n",
    "    plt.ylabel('Metrics')\n",
    "    plt.legend()\n",
    "\n",
    "\n",
    "    # Load best weights\n",
    "    model.load_weights('model_weights.h5')\n",
    "\n",
    "    # Predict on test data\n",
    "    \n",
    "    predictions = model.predict(sequences_padded_test)\n",
    "\n",
    "    # Round predictions to binary values\n",
    "    binary_predictions = np.round(predictions).astype(int)\n",
    "\n",
    "    # Save predictions to CSV file\n",
    "    output_df = pd.DataFrame({'id': test_df['id'], 'target': binary_predictions.flatten()})\n",
    "    output_df.to_csv('predictions.csv', index=False)\n",
    "    \n",
    "    # Predict on validation data\n",
    "\n",
    "    return get_best_metrics(history)\n",
    "\n",
    "def get_best_metrics(history):\n",
    "    val_loss = history.history['val_loss']\n",
    "    val_accuracy = history.history['val_accuracy']\n",
    "    val_f1_score = history.history['val_custom_f1_score']\n",
    "    best_epoch = np.argmin(val_loss) + 1\n",
    "    best_loss = min(val_loss)\n",
    "    best_accuracy = val_accuracy[np.argmin(val_loss)]\n",
    "    best_f1_score = val_f1_score[np.argmin(val_loss)]\n",
    "\n",
    "    return best_epoch, best_loss, best_accuracy, best_f1_score"
   ]
  },
  {
   "cell_type": "markdown",
   "id": "4759f71e-9859-45fc-9e6b-7c999f21338c",
   "metadata": {},
   "source": [
    "# LSTM Model"
   ]
  },
  {
   "cell_type": "markdown",
   "id": "a02c6d33-b3c2-40ce-ad9b-fedb0a347d04",
   "metadata": {},
   "source": [
    "The LSTM model architecture utilized for this task consists of an Embedding layer, an LSTM layer, and a Dense layer. This architecture is suitable for processing sequential data like tweets, as it can capture long-term dependencies and semantic similarities between words. The LSTM layer's ability to retain information over extended sequences is particularly advantageous for understanding tweet context. Additionally, the model employs an Embedding layer to convert words into dense vectors, enhancing its ability to generalize. While a bidirectional LSTM could further enhance the model's understanding of context by considering past and future words, it was not implemented in this case. Overall, the LSTM model architecture is well-suited for this problem, achieving a test F1 score of 0.773."
   ]
  },
  {
   "cell_type": "code",
   "execution_count": 16,
   "id": "cd85f0df-caa3-4156-9e7e-2a623374d116",
   "metadata": {},
   "outputs": [
    {
     "name": "stdout",
     "output_type": "stream",
     "text": [
      "WARNING:tensorflow:Layer lstm_1 will not use cuDNN kernels since it doesn't meet the criteria. It will use a generic GPU kernel as fallback when running on GPU.\n"
     ]
    }
   ],
   "source": [
    "# Define LSTM model architecture\n",
    "LSTM_model = Sequential()\n",
    "LSTM_model.add(Embedding(len(tokenizer.word_index) + 1, 16))\n",
    "LSTM_model.add(LSTM(16, dropout=0.2, recurrent_dropout=0.2))\n",
    "LSTM_model.add(Dense(1, activation='sigmoid'))\n",
    "\n",
    "    # Compile the model\n",
    "LSTM_model.compile(optimizer='adam', loss='binary_crossentropy', metrics=['accuracy', custom_f1_score])"
   ]
  },
  {
   "cell_type": "code",
   "execution_count": 17,
   "id": "88e6480a",
   "metadata": {
    "ExecuteTime": {
     "end_time": "2023-08-22T02:36:05.682382Z",
     "start_time": "2023-08-22T02:36:05.670370Z"
    }
   },
   "outputs": [
    {
     "name": "stdout",
     "output_type": "stream",
     "text": [
      "Epoch 1/100\n",
      "191/191 [==============================] - ETA: 0s - loss: 0.6396 - accuracy: 0.6310 - custom_f1_score: 0.2003\n",
      "Epoch 1: val_loss improved from inf to 0.59843, saving model to model_weights.h5\n",
      "191/191 [==============================] - 33s 159ms/step - loss: 0.6396 - accuracy: 0.6310 - custom_f1_score: 0.2003 - val_loss: 0.5984 - val_accuracy: 0.6481 - val_custom_f1_score: 0.6179\n",
      "Epoch 2/100\n",
      "191/191 [==============================] - ETA: 0s - loss: 0.4090 - accuracy: 0.8374 - custom_f1_score: 0.7875\n",
      "Epoch 2: val_loss improved from 0.59843 to 0.51620, saving model to model_weights.h5\n",
      "191/191 [==============================] - 32s 170ms/step - loss: 0.4090 - accuracy: 0.8374 - custom_f1_score: 0.7875 - val_loss: 0.5162 - val_accuracy: 0.7676 - val_custom_f1_score: 0.6032\n",
      "Epoch 3/100\n",
      "191/191 [==============================] - ETA: 0s - loss: 0.2961 - accuracy: 0.8916 - custom_f1_score: 0.8579\n",
      "Epoch 3: val_loss did not improve from 0.51620\n",
      "191/191 [==============================] - 32s 169ms/step - loss: 0.2961 - accuracy: 0.8916 - custom_f1_score: 0.8579 - val_loss: 0.5305 - val_accuracy: 0.7426 - val_custom_f1_score: 0.6018\n",
      "Epoch 4/100\n",
      "191/191 [==============================] - ETA: 0s - loss: 0.2297 - accuracy: 0.9184 - custom_f1_score: 0.8948\n",
      "Epoch 4: val_loss did not improve from 0.51620\n",
      "191/191 [==============================] - 30s 159ms/step - loss: 0.2297 - accuracy: 0.9184 - custom_f1_score: 0.8948 - val_loss: 0.6155 - val_accuracy: 0.7288 - val_custom_f1_score: 0.6179\n",
      "Epoch 5/100\n",
      "191/191 [==============================] - ETA: 0s - loss: 0.1957 - accuracy: 0.9319 - custom_f1_score: 0.9135\n",
      "Epoch 5: val_loss did not improve from 0.51620\n",
      "191/191 [==============================] - 30s 156ms/step - loss: 0.1957 - accuracy: 0.9319 - custom_f1_score: 0.9135 - val_loss: 0.6343 - val_accuracy: 0.7433 - val_custom_f1_score: 0.5931\n",
      "Epoch 6/100\n",
      "191/191 [==============================] - ETA: 0s - loss: 0.1774 - accuracy: 0.9366 - custom_f1_score: 0.9186\n",
      "Epoch 6: val_loss did not improve from 0.51620\n",
      "191/191 [==============================] - 29s 153ms/step - loss: 0.1774 - accuracy: 0.9366 - custom_f1_score: 0.9186 - val_loss: 0.7234 - val_accuracy: 0.7341 - val_custom_f1_score: 0.6148\n",
      "Epoch 7/100\n",
      "191/191 [==============================] - ETA: 0s - loss: 0.1634 - accuracy: 0.9422 - custom_f1_score: 0.9262\n",
      "Epoch 7: val_loss did not improve from 0.51620\n",
      "191/191 [==============================] - 29s 153ms/step - loss: 0.1634 - accuracy: 0.9422 - custom_f1_score: 0.9262 - val_loss: 0.6698 - val_accuracy: 0.7439 - val_custom_f1_score: 0.5944\n",
      "Epoch 8/100\n",
      "191/191 [==============================] - ETA: 0s - loss: 0.1490 - accuracy: 0.9450 - custom_f1_score: 0.9269\n",
      "Epoch 8: val_loss did not improve from 0.51620\n",
      "191/191 [==============================] - 33s 172ms/step - loss: 0.1490 - accuracy: 0.9450 - custom_f1_score: 0.9269 - val_loss: 0.7750 - val_accuracy: 0.7426 - val_custom_f1_score: 0.5963\n",
      "Epoch 9/100\n",
      "191/191 [==============================] - ETA: 0s - loss: 0.1425 - accuracy: 0.9450 - custom_f1_score: 0.9295\n",
      "Epoch 9: val_loss did not improve from 0.51620\n",
      "191/191 [==============================] - 31s 165ms/step - loss: 0.1425 - accuracy: 0.9450 - custom_f1_score: 0.9295 - val_loss: 0.8255 - val_accuracy: 0.7420 - val_custom_f1_score: 0.6036\n",
      "Epoch 10/100\n",
      "191/191 [==============================] - ETA: 0s - loss: 0.1343 - accuracy: 0.9470 - custom_f1_score: 0.9294\n",
      "Epoch 10: val_loss did not improve from 0.51620\n",
      "191/191 [==============================] - 29s 151ms/step - loss: 0.1343 - accuracy: 0.9470 - custom_f1_score: 0.9294 - val_loss: 0.7738 - val_accuracy: 0.7393 - val_custom_f1_score: 0.5808\n",
      "Epoch 11/100\n",
      "191/191 [==============================] - ETA: 0s - loss: 0.1276 - accuracy: 0.9489 - custom_f1_score: 0.9333\n",
      "Epoch 11: val_loss did not improve from 0.51620\n",
      "191/191 [==============================] - 29s 150ms/step - loss: 0.1276 - accuracy: 0.9489 - custom_f1_score: 0.9333 - val_loss: 0.8545 - val_accuracy: 0.7380 - val_custom_f1_score: 0.5842\n",
      "Epoch 12/100\n",
      "191/191 [==============================] - ETA: 0s - loss: 0.1248 - accuracy: 0.9488 - custom_f1_score: 0.9328\n",
      "Epoch 12: val_loss did not improve from 0.51620\n",
      "191/191 [==============================] - 27s 140ms/step - loss: 0.1248 - accuracy: 0.9488 - custom_f1_score: 0.9328 - val_loss: 0.9337 - val_accuracy: 0.7387 - val_custom_f1_score: 0.5915\n",
      "Epoch 12: early stopping\n",
      "102/102 [==============================] - 2s 18ms/step\n",
      "Best Epoch: 2\n",
      "Best Model Loss: 0.5161952972412109\n",
      "Best Model Accuracy: 0.7675639986991882\n",
      "Best Model f1_score: 0.6032170653343201\n"
     ]
    },
    {
     "data": {
      "image/png": "[encoded data removed]",
      "text/plain": [
       "<Figure size 640x480 with 1 Axes>"
      ]
     },
     "metadata": {},
     "output_type": "display_data"
    }
   ],
   "source": [
    "result = train_model(LSTM_model)\n",
    "print(f\"Best Epoch: {result[0]}\")\n",
    "print(f\"Best Model Loss: {result[1]}\")\n",
    "print(f\"Best Model Accuracy: {result[2]}\")\n",
    "print(f\"Best Model f1_score: {result[3]}\")"
   ]
  },
  {
   "cell_type": "code",
   "execution_count": 18,
   "id": "3295797f-9013-4847-9872-da3947e30c11",
   "metadata": {},
   "outputs": [],
   "source": [
    "results_df = pd.DataFrame(columns=[\"Model Name\", \"Validation Loss\", \"Validation Accuracy\", \"Validation F1 score\", \"Test F1 score\"])\n",
    "results_df.loc[len(results_df.index)] = [\"LSTM Model\", result[1], result[2], result[3], 0.773]"
   ]
  },
  {
   "cell_type": "markdown",
   "id": "1f50c5b3-8eb6-4f73-a803-026fb39e7bfe",
   "metadata": {},
   "source": [
    "The LSTM model we trained achieved a validation F1 score of 0.603 and a test F1 score of 0.773, indicating good performance in classifying tweets as disaster or non-disaster. The model architecture consisted of an Embedding layer, a single LSTM layer with dropout, and a Dense layer with sigmoid activation. We used the Adam optimizer and binary cross-entropy loss function during training, and evaluated the model's performance using accuracy and a custom F1 score metric. The results suggest that the model generalizes well to unseen data, with the test F1 score indicating a strong balance between precision and recall. "
   ]
  },
  {
   "cell_type": "markdown",
   "id": "bdc11a73",
   "metadata": {},
   "source": [
    "# Bidirectional LSTM Model"
   ]
  },
  {
   "cell_type": "markdown",
   "id": "f6e89cd9",
   "metadata": {},
   "source": [
    "The Bidirectional LSTM model architecture, comprising an embedding layer, Bidirectional LSTM layer, and dense layer with sigmoid activation, is well-suited for text classification tasks like predicting real disasters from tweets. It leverages bidirectional processing to capture both past and future context, essential for understanding nuanced language in tweets. The embedding layer enhances word representations, aiding in accurate predictions. Overall, Bidirectional LSTMs excel in capturing long-range dependencies, making them a potent choice for natural language processing tasks."
   ]
  },
  {
   "cell_type": "code",
   "execution_count": 19,
   "id": "197095ce",
   "metadata": {
    "ExecuteTime": {
     "end_time": "2023-08-22T02:38:54.064459Z",
     "start_time": "2023-08-22T02:38:51.998485Z"
    }
   },
   "outputs": [
    {
     "name": "stdout",
     "output_type": "stream",
     "text": [
      "WARNING:tensorflow:Layer lstm_2 will not use cuDNN kernels since it doesn't meet the criteria. It will use a generic GPU kernel as fallback when running on GPU.\n",
      "WARNING:tensorflow:Layer lstm_2 will not use cuDNN kernels since it doesn't meet the criteria. It will use a generic GPU kernel as fallback when running on GPU.\n",
      "WARNING:tensorflow:Layer lstm_2 will not use cuDNN kernels since it doesn't meet the criteria. It will use a generic GPU kernel as fallback when running on GPU.\n"
     ]
    }
   ],
   "source": [
    "Bidirectional_LSTM_model = Sequential()\n",
    "Bidirectional_LSTM_model.add(Embedding(len(tokenizer.word_index) + 1, 16))\n",
    "Bidirectional_LSTM_model.add(Bidirectional(LSTM(16, dropout=0.2, recurrent_dropout=0.2)))\n",
    "Bidirectional_LSTM_model.add(Dense(1, activation='sigmoid'))\n",
    "\n",
    "    # Compile the model\n",
    "Bidirectional_LSTM_model.compile(optimizer='adam', loss='binary_crossentropy', metrics=['accuracy', custom_f1_score])"
   ]
  },
  {
   "cell_type": "code",
   "execution_count": 20,
   "id": "48fb1caa",
   "metadata": {
    "ExecuteTime": {
     "end_time": "2023-08-22T02:38:54.655997Z",
     "start_time": "2023-08-22T02:38:54.066460Z"
    }
   },
   "outputs": [
    {
     "name": "stdout",
     "output_type": "stream",
     "text": [
      "Epoch 1/100\n",
      "191/191 [==============================] - ETA: 0s - loss: 0.6216 - accuracy: 0.6516 - custom_f1_score: 0.2864\n",
      "Epoch 1: val_loss improved from inf to 0.54203, saving model to model_weights.h5\n",
      "191/191 [==============================] - 54s 260ms/step - loss: 0.6216 - accuracy: 0.6516 - custom_f1_score: 0.2864 - val_loss: 0.5420 - val_accuracy: 0.7538 - val_custom_f1_score: 0.5930\n",
      "Epoch 2/100\n",
      "191/191 [==============================] - ETA: 0s - loss: 0.3914 - accuracy: 0.8414 - custom_f1_score: 0.7887\n",
      "Epoch 2: val_loss improved from 0.54203 to 0.49087, saving model to model_weights.h5\n",
      "191/191 [==============================] - 48s 251ms/step - loss: 0.3914 - accuracy: 0.8414 - custom_f1_score: 0.7887 - val_loss: 0.4909 - val_accuracy: 0.7623 - val_custom_f1_score: 0.6067\n",
      "Epoch 3/100\n",
      "191/191 [==============================] - ETA: 0s - loss: 0.2764 - accuracy: 0.8928 - custom_f1_score: 0.8604\n",
      "Epoch 3: val_loss did not improve from 0.49087\n",
      "191/191 [==============================] - 52s 274ms/step - loss: 0.2764 - accuracy: 0.8928 - custom_f1_score: 0.8604 - val_loss: 0.5090 - val_accuracy: 0.7643 - val_custom_f1_score: 0.6137\n",
      "Epoch 4/100\n",
      "191/191 [==============================] - ETA: 0s - loss: 0.2139 - accuracy: 0.9200 - custom_f1_score: 0.8954\n",
      "Epoch 4: val_loss did not improve from 0.49087\n",
      "191/191 [==============================] - 56s 291ms/step - loss: 0.2139 - accuracy: 0.9200 - custom_f1_score: 0.8954 - val_loss: 0.6065 - val_accuracy: 0.7452 - val_custom_f1_score: 0.6162\n",
      "Epoch 5/100\n",
      "191/191 [==============================] - ETA: 0s - loss: 0.1760 - accuracy: 0.9348 - custom_f1_score: 0.9149\n",
      "Epoch 5: val_loss did not improve from 0.49087\n",
      "191/191 [==============================] - 60s 313ms/step - loss: 0.1760 - accuracy: 0.9348 - custom_f1_score: 0.9149 - val_loss: 0.5855 - val_accuracy: 0.7452 - val_custom_f1_score: 0.6032\n",
      "Epoch 6/100\n",
      "191/191 [==============================] - ETA: 0s - loss: 0.1610 - accuracy: 0.9384 - custom_f1_score: 0.9214\n",
      "Epoch 6: val_loss did not improve from 0.49087\n",
      "191/191 [==============================] - 57s 299ms/step - loss: 0.1610 - accuracy: 0.9384 - custom_f1_score: 0.9214 - val_loss: 0.6883 - val_accuracy: 0.7354 - val_custom_f1_score: 0.6156\n",
      "Epoch 7/100\n",
      "191/191 [==============================] - ETA: 0s - loss: 0.1466 - accuracy: 0.9435 - custom_f1_score: 0.9280\n",
      "Epoch 7: val_loss did not improve from 0.49087\n",
      "191/191 [==============================] - 57s 300ms/step - loss: 0.1466 - accuracy: 0.9435 - custom_f1_score: 0.9280 - val_loss: 0.6944 - val_accuracy: 0.7492 - val_custom_f1_score: 0.6039\n",
      "Epoch 8/100\n",
      "191/191 [==============================] - ETA: 0s - loss: 0.1357 - accuracy: 0.9456 - custom_f1_score: 0.9298\n",
      "Epoch 8: val_loss did not improve from 0.49087\n",
      "191/191 [==============================] - 61s 321ms/step - loss: 0.1357 - accuracy: 0.9456 - custom_f1_score: 0.9298 - val_loss: 0.7218 - val_accuracy: 0.7387 - val_custom_f1_score: 0.6034\n",
      "Epoch 9/100\n",
      "191/191 [==============================] - ETA: 0s - loss: 0.1364 - accuracy: 0.9427 - custom_f1_score: 0.9253\n",
      "Epoch 9: val_loss did not improve from 0.49087\n",
      "191/191 [==============================] - 59s 309ms/step - loss: 0.1364 - accuracy: 0.9427 - custom_f1_score: 0.9253 - val_loss: 0.7550 - val_accuracy: 0.7354 - val_custom_f1_score: 0.6067\n",
      "Epoch 10/100\n",
      "191/191 [==============================] - ETA: 0s - loss: 0.1305 - accuracy: 0.9479 - custom_f1_score: 0.9328\n",
      "Epoch 10: val_loss did not improve from 0.49087\n",
      "191/191 [==============================] - 53s 280ms/step - loss: 0.1305 - accuracy: 0.9479 - custom_f1_score: 0.9328 - val_loss: 0.7575 - val_accuracy: 0.7328 - val_custom_f1_score: 0.5961\n",
      "Epoch 11/100\n",
      "191/191 [==============================] - ETA: 0s - loss: 0.1270 - accuracy: 0.9471 - custom_f1_score: 0.9315\n",
      "Epoch 11: val_loss did not improve from 0.49087\n",
      "191/191 [==============================] - 55s 288ms/step - loss: 0.1270 - accuracy: 0.9471 - custom_f1_score: 0.9315 - val_loss: 0.8313 - val_accuracy: 0.7341 - val_custom_f1_score: 0.5936\n",
      "Epoch 12/100\n",
      "191/191 [==============================] - ETA: 0s - loss: 0.1243 - accuracy: 0.9483 - custom_f1_score: 0.9336\n",
      "Epoch 12: val_loss did not improve from 0.49087\n",
      "191/191 [==============================] - 58s 303ms/step - loss: 0.1243 - accuracy: 0.9483 - custom_f1_score: 0.9336 - val_loss: 0.8287 - val_accuracy: 0.7321 - val_custom_f1_score: 0.5896\n",
      "Epoch 12: early stopping\n",
      "102/102 [==============================] - 3s 29ms/step\n",
      "Best Epoch: 2\n",
      "Best Model Loss: 0.4908735752105713\n",
      "Best Model Accuracy: 0.7623112201690674\n",
      "Best Model f1_score: 0.6067090630531311\n"
     ]
    },
    {
     "data": {
      "image/png": "[encoded data removed]",
      "text/plain": [
       "<Figure size 640x480 with 1 Axes>"
      ]
     },
     "metadata": {},
     "output_type": "display_data"
    }
   ],
   "source": [
    "result = train_model(Bidirectional_LSTM_model)\n",
    "print(f\"Best Epoch: {result[0]}\")\n",
    "print(f\"Best Model Loss: {result[1]}\")\n",
    "print(f\"Best Model Accuracy: {result[2]}\")\n",
    "print(f\"Best Model f1_score: {result[3]}\")"
   ]
  },
  {
   "cell_type": "code",
   "execution_count": 21,
   "id": "7617a188-2eee-4819-bb18-228b1e3dc2cb",
   "metadata": {},
   "outputs": [],
   "source": [
    "results_df.loc[len(results_df.index)] = [\"Bidirectional LSTM Model\", result[1], result[2], result[3], 0.77]"
   ]
  },
  {
   "cell_type": "markdown",
   "id": "d2b39c9d-c142-4789-9e70-72be45b350cb",
   "metadata": {},
   "source": [
    "The Bidirectional LSTM model achieved a validation F1 score of 0.607 and a test F1 score of 0.77 showing that the model performs well in categorizing text data, into groups like determining if a tweet discusses a disaster. The validation F1 score indicates the model generalizes effectively to data and the higher test F1 score confirms its performance on the test dataset validating its efficacy further. With its LSTM layer the model captures both future information from input sequences enhancing its understanding of text context and meaning. The straightforward model architecture also prevents overfitting ensuring generalization to data. In summary these results prove that the Bidirectional LSTM model is proficient in classifying text data for tasks such, as disaster identification.\n"
   ]
  },
  {
   "cell_type": "markdown",
   "id": "c05e308c",
   "metadata": {},
   "source": [
    "# GRU Model"
   ]
  },
  {
   "cell_type": "markdown",
   "id": "e25a7b7a",
   "metadata": {},
   "source": [
    "The GRU model architecture is selected for its ability to effectively capture sequential dependencies in text data while overcoming some of the limitations of traditional RNNs, such as the vanishing gradient problem. It comprises an Embedding layer for transforming input tokens into dense vectors, followed by a GRU layer that processes the embedded sequences, leveraging gating mechanisms to regulate information flow. A Dense output layer with sigmoid activation produces binary classification predictions. This architecture is well-suited for text classification tasks like identifying disaster tweets due to its capacity to handle varying sequence lengths and effectively capture contextual information, making it an efficient solution for processing sequential data. "
   ]
  },
  {
   "cell_type": "code",
   "execution_count": 22,
   "id": "559909fc",
   "metadata": {
    "ExecuteTime": {
     "end_time": "2023-08-22T02:39:03.094559Z",
     "start_time": "2023-08-22T02:39:03.014486Z"
    }
   },
   "outputs": [
    {
     "name": "stdout",
     "output_type": "stream",
     "text": [
      "WARNING:tensorflow:Layer gru will not use cuDNN kernels since it doesn't meet the criteria. It will use a generic GPU kernel as fallback when running on GPU.\n"
     ]
    }
   ],
   "source": [
    "gru_model = Sequential()\n",
    "gru_model.add(Embedding(input_dim=len(tokenizer.word_index) + 1, output_dim=16))\n",
    "gru_model.add(GRU(16, dropout=0.2, recurrent_dropout=0.2))\n",
    "gru_model.add(Dense(1, activation='sigmoid'))\n",
    "gru_model.compile(optimizer='adam', loss='binary_crossentropy', metrics=['accuracy', custom_f1_score])"
   ]
  },
  {
   "cell_type": "code",
   "execution_count": 23,
   "id": "f0a48f92",
   "metadata": {
    "ExecuteTime": {
     "end_time": "2023-08-22T02:39:03.748235Z",
     "start_time": "2023-08-22T02:39:03.182720Z"
    }
   },
   "outputs": [
    {
     "name": "stdout",
     "output_type": "stream",
     "text": [
      "Epoch 1/100\n",
      "191/191 [==============================] - ETA: 0s - loss: 0.6821 - accuracy: 0.5778 - custom_f1_score: 0.0076\n",
      "Epoch 1: val_loss improved from inf to 0.70258, saving model to model_weights.h5\n",
      "191/191 [==============================] - 30s 145ms/step - loss: 0.6821 - accuracy: 0.5778 - custom_f1_score: 0.0076 - val_loss: 0.7026 - val_accuracy: 0.5345 - val_custom_f1_score: 0.0000e+00\n",
      "Epoch 2/100\n",
      "191/191 [==============================] - ETA: 0s - loss: 0.6812 - accuracy: 0.5793 - custom_f1_score: 0.0000e+00\n",
      "Epoch 2: val_loss improved from 0.70258 to 0.69408, saving model to model_weights.h5\n",
      "191/191 [==============================] - 26s 135ms/step - loss: 0.6812 - accuracy: 0.5793 - custom_f1_score: 0.0000e+00 - val_loss: 0.6941 - val_accuracy: 0.5345 - val_custom_f1_score: 0.0000e+00\n",
      "Epoch 3/100\n",
      "191/191 [==============================] - ETA: 0s - loss: 0.6583 - accuracy: 0.6057 - custom_f1_score: 0.1044\n",
      "Epoch 3: val_loss improved from 0.69408 to 0.53909, saving model to model_weights.h5\n",
      "191/191 [==============================] - 26s 135ms/step - loss: 0.6583 - accuracy: 0.6057 - custom_f1_score: 0.1044 - val_loss: 0.5391 - val_accuracy: 0.7393 - val_custom_f1_score: 0.6079\n",
      "Epoch 4/100\n",
      "191/191 [==============================] - ETA: 0s - loss: 0.4030 - accuracy: 0.8337 - custom_f1_score: 0.7776\n",
      "Epoch 4: val_loss improved from 0.53909 to 0.48567, saving model to model_weights.h5\n",
      "191/191 [==============================] - 23s 121ms/step - loss: 0.4030 - accuracy: 0.8337 - custom_f1_score: 0.7776 - val_loss: 0.4857 - val_accuracy: 0.7768 - val_custom_f1_score: 0.6049\n",
      "Epoch 5/100\n",
      "191/191 [==============================] - ETA: 0s - loss: 0.2986 - accuracy: 0.8854 - custom_f1_score: 0.8484\n",
      "Epoch 5: val_loss did not improve from 0.48567\n",
      "191/191 [==============================] - 25s 129ms/step - loss: 0.2986 - accuracy: 0.8854 - custom_f1_score: 0.8484 - val_loss: 0.5309 - val_accuracy: 0.7518 - val_custom_f1_score: 0.6227\n",
      "Epoch 6/100\n",
      "191/191 [==============================] - ETA: 0s - loss: 0.2391 - accuracy: 0.9128 - custom_f1_score: 0.8876\n",
      "Epoch 6: val_loss did not improve from 0.48567\n",
      "191/191 [==============================] - 22s 116ms/step - loss: 0.2391 - accuracy: 0.9128 - custom_f1_score: 0.8876 - val_loss: 0.5811 - val_accuracy: 0.7433 - val_custom_f1_score: 0.6260\n",
      "Epoch 7/100\n",
      "191/191 [==============================] - ETA: 0s - loss: 0.1975 - accuracy: 0.9255 - custom_f1_score: 0.9033\n",
      "Epoch 7: val_loss did not improve from 0.48567\n",
      "191/191 [==============================] - 27s 139ms/step - loss: 0.1975 - accuracy: 0.9255 - custom_f1_score: 0.9033 - val_loss: 0.6672 - val_accuracy: 0.7400 - val_custom_f1_score: 0.6256\n",
      "Epoch 8/100\n",
      "191/191 [==============================] - ETA: 0s - loss: 0.1722 - accuracy: 0.9350 - custom_f1_score: 0.9161\n",
      "Epoch 8: val_loss did not improve from 0.48567\n",
      "191/191 [==============================] - 30s 155ms/step - loss: 0.1722 - accuracy: 0.9350 - custom_f1_score: 0.9161 - val_loss: 0.6402 - val_accuracy: 0.7518 - val_custom_f1_score: 0.5993\n",
      "Epoch 9/100\n",
      "191/191 [==============================] - ETA: 0s - loss: 0.1582 - accuracy: 0.9412 - custom_f1_score: 0.9241\n",
      "Epoch 9: val_loss did not improve from 0.48567\n",
      "191/191 [==============================] - 25s 133ms/step - loss: 0.1582 - accuracy: 0.9412 - custom_f1_score: 0.9241 - val_loss: 0.7097 - val_accuracy: 0.7360 - val_custom_f1_score: 0.6042\n",
      "Epoch 10/100\n",
      "191/191 [==============================] - ETA: 0s - loss: 0.1487 - accuracy: 0.9412 - custom_f1_score: 0.9218\n",
      "Epoch 10: val_loss did not improve from 0.48567\n",
      "191/191 [==============================] - 27s 140ms/step - loss: 0.1487 - accuracy: 0.9412 - custom_f1_score: 0.9218 - val_loss: 0.6761 - val_accuracy: 0.7380 - val_custom_f1_score: 0.6011\n",
      "Epoch 11/100\n",
      "191/191 [==============================] - ETA: 0s - loss: 0.1383 - accuracy: 0.9442 - custom_f1_score: 0.9268\n",
      "Epoch 11: val_loss did not improve from 0.48567\n",
      "191/191 [==============================] - 27s 142ms/step - loss: 0.1383 - accuracy: 0.9442 - custom_f1_score: 0.9268 - val_loss: 0.7626 - val_accuracy: 0.7400 - val_custom_f1_score: 0.5993\n",
      "Epoch 12/100\n",
      "191/191 [==============================] - ETA: 0s - loss: 0.1367 - accuracy: 0.9450 - custom_f1_score: 0.9282\n",
      "Epoch 12: val_loss did not improve from 0.48567\n",
      "191/191 [==============================] - 27s 142ms/step - loss: 0.1367 - accuracy: 0.9450 - custom_f1_score: 0.9282 - val_loss: 0.7737 - val_accuracy: 0.7308 - val_custom_f1_score: 0.6016\n",
      "Epoch 13/100\n",
      "191/191 [==============================] - ETA: 0s - loss: 0.1300 - accuracy: 0.9468 - custom_f1_score: 0.9301\n",
      "Epoch 13: val_loss did not improve from 0.48567\n",
      "191/191 [==============================] - 30s 155ms/step - loss: 0.1300 - accuracy: 0.9468 - custom_f1_score: 0.9301 - val_loss: 0.8479 - val_accuracy: 0.7275 - val_custom_f1_score: 0.6081\n",
      "Epoch 14/100\n",
      "191/191 [==============================] - ETA: 0s - loss: 0.1275 - accuracy: 0.9484 - custom_f1_score: 0.9348\n",
      "Epoch 14: val_loss did not improve from 0.48567\n",
      "191/191 [==============================] - 27s 143ms/step - loss: 0.1275 - accuracy: 0.9484 - custom_f1_score: 0.9348 - val_loss: 0.8031 - val_accuracy: 0.7334 - val_custom_f1_score: 0.5879\n",
      "Epoch 14: early stopping\n",
      "102/102 [==============================] - 2s 19ms/step\n",
      "Best Epoch: 4\n",
      "Best Model Loss: 0.48567381501197815\n",
      "Best Model Accuracy: 0.7767564058303833\n",
      "Best Model f1_score: 0.604871392250061\n"
     ]
    },
    {
     "data": {
      "image/png": "[encoded data removed]",
      "text/plain": [
       "<Figure size 640x480 with 1 Axes>"
      ]
     },
     "metadata": {},
     "output_type": "display_data"
    }
   ],
   "source": [
    "result = train_model(gru_model)\n",
    "print(f\"Best Epoch: {result[0]}\")\n",
    "print(f\"Best Model Loss: {result[1]}\")\n",
    "print(f\"Best Model Accuracy: {result[2]}\")\n",
    "print(f\"Best Model f1_score: {result[3]}\")"
   ]
  },
  {
   "cell_type": "markdown",
   "id": "d6c28c49-483f-4ad4-8ae7-2f2614152920",
   "metadata": {},
   "source": [
    "The trained GRU model, comprising an embedding layer followed by a GRU layer with 16 units, demonstrated satisfactory performance for text classification. Employing a dropout rate of 0.2 to mitigate overfitting, the model utilized the Adam optimizer and binary cross-entropy loss function during training, which concluded after the 4th epoch based on early stopping criteria. The best model achieved an accuracy of approximately 0.777 and a loss of around 0.486 on the validation set. Subsequently, evaluation on a separate test set yielded an f1_score of approximately 0.776, indicating robust classification capabilities. Further refinement or exploration of hyperparameters and architectures could potentially enhance performance, depending on specific task "
   ]
  },
  {
   "cell_type": "code",
   "execution_count": 24,
   "id": "69245bec",
   "metadata": {
    "ExecuteTime": {
     "end_time": "2023-08-22T02:39:07.111403Z",
     "start_time": "2023-08-22T02:39:06.094487Z"
    }
   },
   "outputs": [],
   "source": [
    "results_df.loc[len(results_df.index)] = [\"GRD Model\", result[1], result[2], result[3], 0.776]"
   ]
  },
  {
   "cell_type": "markdown",
   "id": "bdbc1280",
   "metadata": {},
   "source": [
    "# Results and Analysis"
   ]
  },
  {
   "cell_type": "code",
   "execution_count": 25,
   "id": "c23dbd47-a39c-4e05-8477-2a853d56b41b",
   "metadata": {},
   "outputs": [
    {
     "data": {
      "text/html": [
       "<div>\n",
       "<style scoped>\n",
       "    .dataframe tbody tr th:only-of-type {\n",
       "        vertical-align: middle;\n",
       "    }\n",
       "\n",
       "    .dataframe tbody tr th {\n",
       "        vertical-align: top;\n",
       "    }\n",
       "\n",
       "    .dataframe thead th {\n",
       "        text-align: right;\n",
       "    }\n",
       "</style>\n",
       "<table border=\"1\" class=\"dataframe\">\n",
       "  <thead>\n",
       "    <tr style=\"text-align: right;\">\n",
       "      <th></th>\n",
       "      <th>Model Name</th>\n",
       "      <th>Validation Loss</th>\n",
       "      <th>Validation Accuracy</th>\n",
       "      <th>Validation F1 score</th>\n",
       "      <th>Test F1 score</th>\n",
       "    </tr>\n",
       "  </thead>\n",
       "  <tbody>\n",
       "    <tr>\n",
       "      <th>0</th>\n",
       "      <td>LSTM Model</td>\n",
       "      <td>0.516195</td>\n",
       "      <td>0.767564</td>\n",
       "      <td>0.603217</td>\n",
       "      <td>0.773</td>\n",
       "    </tr>\n",
       "    <tr>\n",
       "      <th>1</th>\n",
       "      <td>Bidirectional LSTM Model</td>\n",
       "      <td>0.490874</td>\n",
       "      <td>0.762311</td>\n",
       "      <td>0.606709</td>\n",
       "      <td>0.770</td>\n",
       "    </tr>\n",
       "    <tr>\n",
       "      <th>2</th>\n",
       "      <td>GRD Model</td>\n",
       "      <td>0.485674</td>\n",
       "      <td>0.776756</td>\n",
       "      <td>0.604871</td>\n",
       "      <td>0.776</td>\n",
       "    </tr>\n",
       "  </tbody>\n",
       "</table>\n",
       "</div>"
      ],
      "text/plain": [
       "                 Model Name  Validation Loss  Validation Accuracy  \\\n",
       "0                LSTM Model         0.516195             0.767564   \n",
       "1  Bidirectional LSTM Model         0.490874             0.762311   \n",
       "2                 GRD Model         0.485674             0.776756   \n",
       "\n",
       "   Validation F1 score  Test F1 score  \n",
       "0             0.603217          0.773  \n",
       "1             0.606709          0.770  \n",
       "2             0.604871          0.776  "
      ]
     },
     "execution_count": 25,
     "metadata": {},
     "output_type": "execute_result"
    }
   ],
   "source": [
    "results_df"
   ]
  },
  {
   "cell_type": "markdown",
   "id": "41a7cf2c-6433-4000-afe1-95304e169238",
   "metadata": {},
   "source": [
    "Among the models evaluated, the Bidirectional LSTM model performed the best on the validation set in terms of accuracy and achieved the highest test F1 score, indicating its robustness in capturing the complexities of the data. Although the GRD model exhibited slightly higher validation accuracy than the LSTM model, its test F1 score was slightly lower. Further analysis may be warranted to understand the factors contributing to these performance differences."
   ]
  },
  {
   "cell_type": "markdown",
   "id": "eb8b9b92-2c96-4a92-95b3-cdf232af7666",
   "metadata": {},
   "source": [
    "I implemented a hyperparameter tuning pipeline utilizing RandomizedSearchCV to optimize a recurrent neural network (RNN) model for binary classification. The process begins by defining a comprehensive hyperparameter space comprising parameters such as the number of units, learning rate, dropout rate, optimizer, and type of RNN cell (LSTM or GRU). Subsequently, a model creation function is established to configure the RNN architecture, integrating an Embedding layer, a Bidirectional RNN layer (LSTM or GRU), and a Dense layer with a sigmoid activation function. Leveraging the KerasClassifier, the model creation function is seamlessly integrated into the RandomizedSearchCV framework, enabling exhaustive exploration of hyperparameter combinations through cross-validation. Following the search process, the best hyperparameters are identified, shedding light on the optimal configuration for the RNN model tailored to binary classification tasks."
   ]
  },
  {
   "cell_type": "code",
   "execution_count": 26,
   "id": "5004c9c1",
   "metadata": {
    "ExecuteTime": {
     "end_time": "2023-08-22T02:41:42.686036Z",
     "start_time": "2023-08-22T02:41:41.454925Z"
    }
   },
   "outputs": [],
   "source": [
    "hyperparameters = {\n",
    "    'units': [32, 64, 128],\n",
    "    'learning_rate': [0.001, 0.01, 0.1],\n",
    "    'dropout_rate': [0.2, 0.3, 0.4],\n",
    "    'optimizer': ['adam', 'rmsprop'],\n",
    "    'rnn_type': ['LSTM', 'GRU']  # Add rnn_type parameter here\n",
    "}"
   ]
  },
  {
   "cell_type": "code",
   "execution_count": 27,
   "id": "cf0fe25d-6503-47da-aec3-177f064f0e64",
   "metadata": {},
   "outputs": [
    {
     "name": "stderr",
     "output_type": "stream",
     "text": [
      "C:\\Users\\Andrew\\AppData\\Local\\Temp\\ipykernel_94312\\2354363632.py:12: DeprecationWarning: KerasClassifier is deprecated, use Sci-Keras (https://github.com/adriangb/scikeras) instead. See https://www.adriangb.com/scikeras/stable/migration.html for help migrating.\n",
      "  model = KerasClassifier(build_fn=create_model, epochs=10, batch_size=32, verbose=0, validation_split=0.2)\n"
     ]
    }
   ],
   "source": [
    "def create_model(units=16, learning_rate=0.001, dropout_rate=0.2, optimizer='adam', rnn_type='LSTM'):\n",
    "    rnn_layer = LSTM(units, dropout=dropout_rate, recurrent_dropout=dropout_rate) if rnn_type == 'LSTM' else GRU(units, dropout=dropout_rate, recurrent_dropout=dropout_rate)\n",
    "    model = Sequential([\n",
    "        Embedding(input_dim=len(tokenizer.word_index) + 1, output_dim=16),\n",
    "        Bidirectional(rnn_layer),\n",
    "        Dense(1, activation='sigmoid')\n",
    "    ])\n",
    "    model.compile(optimizer=optimizer, loss='binary_crossentropy', metrics=['accuracy', custom_f1_score])\n",
    "    return model\n",
    "\n",
    "# Create a KerasClassifier\n",
    "model = KerasClassifier(build_fn=create_model, epochs=10, batch_size=32, verbose=0, validation_split=0.2)"
   ]
  },
  {
   "cell_type": "code",
   "execution_count": 28,
   "id": "47954a8a-9b5d-4974-81ef-c7399533709c",
   "metadata": {},
   "outputs": [
    {
     "name": "stdout",
     "output_type": "stream",
     "text": [
      "WARNING:tensorflow:Layer lstm_3 will not use cuDNN kernels since it doesn't meet the criteria. It will use a generic GPU kernel as fallback when running on GPU.\n",
      "WARNING:tensorflow:Layer lstm_3 will not use cuDNN kernels since it doesn't meet the criteria. It will use a generic GPU kernel as fallback when running on GPU.\n",
      "WARNING:tensorflow:Layer lstm_3 will not use cuDNN kernels since it doesn't meet the criteria. It will use a generic GPU kernel as fallback when running on GPU.\n",
      "WARNING:tensorflow:Layer lstm_4 will not use cuDNN kernels since it doesn't meet the criteria. It will use a generic GPU kernel as fallback when running on GPU.\n",
      "WARNING:tensorflow:Layer lstm_4 will not use cuDNN kernels since it doesn't meet the criteria. It will use a generic GPU kernel as fallback when running on GPU.\n",
      "WARNING:tensorflow:Layer lstm_4 will not use cuDNN kernels since it doesn't meet the criteria. It will use a generic GPU kernel as fallback when running on GPU.\n",
      "WARNING:tensorflow:Layer lstm_5 will not use cuDNN kernels since it doesn't meet the criteria. It will use a generic GPU kernel as fallback when running on GPU.\n",
      "WARNING:tensorflow:Layer lstm_5 will not use cuDNN kernels since it doesn't meet the criteria. It will use a generic GPU kernel as fallback when running on GPU.\n",
      "WARNING:tensorflow:Layer lstm_5 will not use cuDNN kernels since it doesn't meet the criteria. It will use a generic GPU kernel as fallback when running on GPU.\n",
      "WARNING:tensorflow:Layer lstm_6 will not use cuDNN kernels since it doesn't meet the criteria. It will use a generic GPU kernel as fallback when running on GPU.\n",
      "WARNING:tensorflow:Layer lstm_6 will not use cuDNN kernels since it doesn't meet the criteria. It will use a generic GPU kernel as fallback when running on GPU.\n",
      "WARNING:tensorflow:Layer lstm_6 will not use cuDNN kernels since it doesn't meet the criteria. It will use a generic GPU kernel as fallback when running on GPU.\n",
      "WARNING:tensorflow:Layer lstm_7 will not use cuDNN kernels since it doesn't meet the criteria. It will use a generic GPU kernel as fallback when running on GPU.\n",
      "WARNING:tensorflow:Layer lstm_7 will not use cuDNN kernels since it doesn't meet the criteria. It will use a generic GPU kernel as fallback when running on GPU.\n",
      "WARNING:tensorflow:Layer lstm_7 will not use cuDNN kernels since it doesn't meet the criteria. It will use a generic GPU kernel as fallback when running on GPU.\n",
      "WARNING:tensorflow:Layer lstm_8 will not use cuDNN kernels since it doesn't meet the criteria. It will use a generic GPU kernel as fallback when running on GPU.\n",
      "WARNING:tensorflow:Layer lstm_8 will not use cuDNN kernels since it doesn't meet the criteria. It will use a generic GPU kernel as fallback when running on GPU.\n",
      "WARNING:tensorflow:Layer lstm_8 will not use cuDNN kernels since it doesn't meet the criteria. It will use a generic GPU kernel as fallback when running on GPU.\n",
      "WARNING:tensorflow:Layer lstm_9 will not use cuDNN kernels since it doesn't meet the criteria. It will use a generic GPU kernel as fallback when running on GPU.\n",
      "WARNING:tensorflow:Layer lstm_9 will not use cuDNN kernels since it doesn't meet the criteria. It will use a generic GPU kernel as fallback when running on GPU.\n",
      "WARNING:tensorflow:Layer lstm_9 will not use cuDNN kernels since it doesn't meet the criteria. It will use a generic GPU kernel as fallback when running on GPU.\n",
      "WARNING:tensorflow:Layer lstm_10 will not use cuDNN kernels since it doesn't meet the criteria. It will use a generic GPU kernel as fallback when running on GPU.\n",
      "WARNING:tensorflow:Layer lstm_10 will not use cuDNN kernels since it doesn't meet the criteria. It will use a generic GPU kernel as fallback when running on GPU.\n",
      "WARNING:tensorflow:Layer lstm_10 will not use cuDNN kernels since it doesn't meet the criteria. It will use a generic GPU kernel as fallback when running on GPU.\n",
      "WARNING:tensorflow:Layer lstm_11 will not use cuDNN kernels since it doesn't meet the criteria. It will use a generic GPU kernel as fallback when running on GPU.\n",
      "WARNING:tensorflow:Layer lstm_11 will not use cuDNN kernels since it doesn't meet the criteria. It will use a generic GPU kernel as fallback when running on GPU.\n",
      "WARNING:tensorflow:Layer lstm_11 will not use cuDNN kernels since it doesn't meet the criteria. It will use a generic GPU kernel as fallback when running on GPU.\n",
      "WARNING:tensorflow:Layer gru_1 will not use cuDNN kernels since it doesn't meet the criteria. It will use a generic GPU kernel as fallback when running on GPU.\n",
      "WARNING:tensorflow:Layer gru_1 will not use cuDNN kernels since it doesn't meet the criteria. It will use a generic GPU kernel as fallback when running on GPU.\n",
      "WARNING:tensorflow:Layer gru_1 will not use cuDNN kernels since it doesn't meet the criteria. It will use a generic GPU kernel as fallback when running on GPU.\n",
      "WARNING:tensorflow:Layer gru_2 will not use cuDNN kernels since it doesn't meet the criteria. It will use a generic GPU kernel as fallback when running on GPU.\n",
      "WARNING:tensorflow:Layer gru_2 will not use cuDNN kernels since it doesn't meet the criteria. It will use a generic GPU kernel as fallback when running on GPU.\n",
      "WARNING:tensorflow:Layer gru_2 will not use cuDNN kernels since it doesn't meet the criteria. It will use a generic GPU kernel as fallback when running on GPU.\n",
      "WARNING:tensorflow:Layer gru_3 will not use cuDNN kernels since it doesn't meet the criteria. It will use a generic GPU kernel as fallback when running on GPU.\n",
      "WARNING:tensorflow:Layer gru_3 will not use cuDNN kernels since it doesn't meet the criteria. It will use a generic GPU kernel as fallback when running on GPU.\n",
      "WARNING:tensorflow:Layer gru_3 will not use cuDNN kernels since it doesn't meet the criteria. It will use a generic GPU kernel as fallback when running on GPU.\n",
      "WARNING:tensorflow:Layer gru_4 will not use cuDNN kernels since it doesn't meet the criteria. It will use a generic GPU kernel as fallback when running on GPU.\n",
      "WARNING:tensorflow:Layer gru_4 will not use cuDNN kernels since it doesn't meet the criteria. It will use a generic GPU kernel as fallback when running on GPU.\n",
      "WARNING:tensorflow:Layer gru_4 will not use cuDNN kernels since it doesn't meet the criteria. It will use a generic GPU kernel as fallback when running on GPU.\n",
      "WARNING:tensorflow:Layer gru_5 will not use cuDNN kernels since it doesn't meet the criteria. It will use a generic GPU kernel as fallback when running on GPU.\n",
      "WARNING:tensorflow:Layer gru_5 will not use cuDNN kernels since it doesn't meet the criteria. It will use a generic GPU kernel as fallback when running on GPU.\n",
      "WARNING:tensorflow:Layer gru_5 will not use cuDNN kernels since it doesn't meet the criteria. It will use a generic GPU kernel as fallback when running on GPU.\n",
      "WARNING:tensorflow:Layer gru_6 will not use cuDNN kernels since it doesn't meet the criteria. It will use a generic GPU kernel as fallback when running on GPU.\n",
      "WARNING:tensorflow:Layer gru_6 will not use cuDNN kernels since it doesn't meet the criteria. It will use a generic GPU kernel as fallback when running on GPU.\n",
      "WARNING:tensorflow:Layer gru_6 will not use cuDNN kernels since it doesn't meet the criteria. It will use a generic GPU kernel as fallback when running on GPU.\n",
      "WARNING:tensorflow:Layer gru_7 will not use cuDNN kernels since it doesn't meet the criteria. It will use a generic GPU kernel as fallback when running on GPU.\n",
      "WARNING:tensorflow:Layer gru_7 will not use cuDNN kernels since it doesn't meet the criteria. It will use a generic GPU kernel as fallback when running on GPU.\n",
      "WARNING:tensorflow:Layer gru_7 will not use cuDNN kernels since it doesn't meet the criteria. It will use a generic GPU kernel as fallback when running on GPU.\n",
      "WARNING:tensorflow:Layer gru_8 will not use cuDNN kernels since it doesn't meet the criteria. It will use a generic GPU kernel as fallback when running on GPU.\n",
      "WARNING:tensorflow:Layer gru_8 will not use cuDNN kernels since it doesn't meet the criteria. It will use a generic GPU kernel as fallback when running on GPU.\n",
      "WARNING:tensorflow:Layer gru_8 will not use cuDNN kernels since it doesn't meet the criteria. It will use a generic GPU kernel as fallback when running on GPU.\n",
      "WARNING:tensorflow:Layer gru_9 will not use cuDNN kernels since it doesn't meet the criteria. It will use a generic GPU kernel as fallback when running on GPU.\n",
      "WARNING:tensorflow:Layer gru_9 will not use cuDNN kernels since it doesn't meet the criteria. It will use a generic GPU kernel as fallback when running on GPU.\n",
      "WARNING:tensorflow:Layer gru_9 will not use cuDNN kernels since it doesn't meet the criteria. It will use a generic GPU kernel as fallback when running on GPU.\n",
      "WARNING:tensorflow:Layer lstm_12 will not use cuDNN kernels since it doesn't meet the criteria. It will use a generic GPU kernel as fallback when running on GPU.\n",
      "WARNING:tensorflow:Layer lstm_12 will not use cuDNN kernels since it doesn't meet the criteria. It will use a generic GPU kernel as fallback when running on GPU.\n",
      "WARNING:tensorflow:Layer lstm_12 will not use cuDNN kernels since it doesn't meet the criteria. It will use a generic GPU kernel as fallback when running on GPU.\n",
      "WARNING:tensorflow:Layer lstm_13 will not use cuDNN kernels since it doesn't meet the criteria. It will use a generic GPU kernel as fallback when running on GPU.\n",
      "WARNING:tensorflow:Layer lstm_13 will not use cuDNN kernels since it doesn't meet the criteria. It will use a generic GPU kernel as fallback when running on GPU.\n",
      "WARNING:tensorflow:Layer lstm_13 will not use cuDNN kernels since it doesn't meet the criteria. It will use a generic GPU kernel as fallback when running on GPU.\n",
      "WARNING:tensorflow:Layer lstm_14 will not use cuDNN kernels since it doesn't meet the criteria. It will use a generic GPU kernel as fallback when running on GPU.\n",
      "WARNING:tensorflow:Layer lstm_14 will not use cuDNN kernels since it doesn't meet the criteria. It will use a generic GPU kernel as fallback when running on GPU.\n",
      "WARNING:tensorflow:Layer lstm_14 will not use cuDNN kernels since it doesn't meet the criteria. It will use a generic GPU kernel as fallback when running on GPU.\n",
      "WARNING:tensorflow:Layer lstm_15 will not use cuDNN kernels since it doesn't meet the criteria. It will use a generic GPU kernel as fallback when running on GPU.\n",
      "WARNING:tensorflow:Layer lstm_15 will not use cuDNN kernels since it doesn't meet the criteria. It will use a generic GPU kernel as fallback when running on GPU.\n",
      "WARNING:tensorflow:Layer lstm_15 will not use cuDNN kernels since it doesn't meet the criteria. It will use a generic GPU kernel as fallback when running on GPU.\n",
      "WARNING:tensorflow:Layer lstm_16 will not use cuDNN kernels since it doesn't meet the criteria. It will use a generic GPU kernel as fallback when running on GPU.\n",
      "WARNING:tensorflow:Layer lstm_16 will not use cuDNN kernels since it doesn't meet the criteria. It will use a generic GPU kernel as fallback when running on GPU.\n",
      "WARNING:tensorflow:Layer lstm_16 will not use cuDNN kernels since it doesn't meet the criteria. It will use a generic GPU kernel as fallback when running on GPU.\n",
      "WARNING:tensorflow:Layer lstm_17 will not use cuDNN kernels since it doesn't meet the criteria. It will use a generic GPU kernel as fallback when running on GPU.\n",
      "WARNING:tensorflow:Layer lstm_17 will not use cuDNN kernels since it doesn't meet the criteria. It will use a generic GPU kernel as fallback when running on GPU.\n",
      "WARNING:tensorflow:Layer lstm_17 will not use cuDNN kernels since it doesn't meet the criteria. It will use a generic GPU kernel as fallback when running on GPU.\n",
      "WARNING:tensorflow:Layer lstm_18 will not use cuDNN kernels since it doesn't meet the criteria. It will use a generic GPU kernel as fallback when running on GPU.\n",
      "WARNING:tensorflow:Layer lstm_18 will not use cuDNN kernels since it doesn't meet the criteria. It will use a generic GPU kernel as fallback when running on GPU.\n",
      "WARNING:tensorflow:Layer lstm_18 will not use cuDNN kernels since it doesn't meet the criteria. It will use a generic GPU kernel as fallback when running on GPU.\n",
      "WARNING:tensorflow:Layer lstm_19 will not use cuDNN kernels since it doesn't meet the criteria. It will use a generic GPU kernel as fallback when running on GPU.\n",
      "WARNING:tensorflow:Layer lstm_19 will not use cuDNN kernels since it doesn't meet the criteria. It will use a generic GPU kernel as fallback when running on GPU.\n",
      "WARNING:tensorflow:Layer lstm_19 will not use cuDNN kernels since it doesn't meet the criteria. It will use a generic GPU kernel as fallback when running on GPU.\n",
      "WARNING:tensorflow:Layer lstm_20 will not use cuDNN kernels since it doesn't meet the criteria. It will use a generic GPU kernel as fallback when running on GPU.\n",
      "WARNING:tensorflow:Layer lstm_20 will not use cuDNN kernels since it doesn't meet the criteria. It will use a generic GPU kernel as fallback when running on GPU.\n",
      "WARNING:tensorflow:Layer lstm_20 will not use cuDNN kernels since it doesn't meet the criteria. It will use a generic GPU kernel as fallback when running on GPU.\n",
      "WARNING:tensorflow:Layer gru_10 will not use cuDNN kernels since it doesn't meet the criteria. It will use a generic GPU kernel as fallback when running on GPU.\n",
      "WARNING:tensorflow:Layer gru_10 will not use cuDNN kernels since it doesn't meet the criteria. It will use a generic GPU kernel as fallback when running on GPU.\n",
      "WARNING:tensorflow:Layer gru_10 will not use cuDNN kernels since it doesn't meet the criteria. It will use a generic GPU kernel as fallback when running on GPU.\n",
      "WARNING:tensorflow:Layer gru_11 will not use cuDNN kernels since it doesn't meet the criteria. It will use a generic GPU kernel as fallback when running on GPU.\n",
      "WARNING:tensorflow:Layer gru_11 will not use cuDNN kernels since it doesn't meet the criteria. It will use a generic GPU kernel as fallback when running on GPU.\n",
      "WARNING:tensorflow:Layer gru_11 will not use cuDNN kernels since it doesn't meet the criteria. It will use a generic GPU kernel as fallback when running on GPU.\n",
      "WARNING:tensorflow:Layer gru_12 will not use cuDNN kernels since it doesn't meet the criteria. It will use a generic GPU kernel as fallback when running on GPU.\n",
      "WARNING:tensorflow:Layer gru_12 will not use cuDNN kernels since it doesn't meet the criteria. It will use a generic GPU kernel as fallback when running on GPU.\n",
      "WARNING:tensorflow:Layer gru_12 will not use cuDNN kernels since it doesn't meet the criteria. It will use a generic GPU kernel as fallback when running on GPU.\n",
      "WARNING:tensorflow:Layer gru_13 will not use cuDNN kernels since it doesn't meet the criteria. It will use a generic GPU kernel as fallback when running on GPU.\n",
      "WARNING:tensorflow:Layer gru_13 will not use cuDNN kernels since it doesn't meet the criteria. It will use a generic GPU kernel as fallback when running on GPU.\n",
      "WARNING:tensorflow:Layer gru_13 will not use cuDNN kernels since it doesn't meet the criteria. It will use a generic GPU kernel as fallback when running on GPU.\n"
     ]
    },
    {
     "data": {
      "text/html": [
       "<style>#sk-container-id-1 {color: black;}#sk-container-id-1 pre{padding: 0;}#sk-container-id-1 div.sk-toggleable {background-color: white;}#sk-container-id-1 label.sk-toggleable__label {cursor: pointer;display: block;width: 100%;margin-bottom: 0;padding: 0.3em;box-sizing: border-box;text-align: center;}#sk-container-id-1 label.sk-toggleable__label-arrow:before {content: \"▸\";float: left;margin-right: 0.25em;color: #696969;}#sk-container-id-1 label.sk-toggleable__label-arrow:hover:before {color: black;}#sk-container-id-1 div.sk-estimator:hover label.sk-toggleable__label-arrow:before {color: black;}#sk-container-id-1 div.sk-toggleable__content {max-height: 0;max-width: 0;overflow: hidden;text-align: left;background-color: #f0f8ff;}#sk-container-id-1 div.sk-toggleable__content pre {margin: 0.2em;color: black;border-radius: 0.25em;background-color: #f0f8ff;}#sk-container-id-1 input.sk-toggleable__control:checked~div.sk-toggleable__content {max-height: 200px;max-width: 100%;overflow: auto;}#sk-container-id-1 input.sk-toggleable__control:checked~label.sk-toggleable__label-arrow:before {content: \"▾\";}#sk-container-id-1 div.sk-estimator input.sk-toggleable__control:checked~label.sk-toggleable__label {background-color: #d4ebff;}#sk-container-id-1 div.sk-label input.sk-toggleable__control:checked~label.sk-toggleable__label {background-color: #d4ebff;}#sk-container-id-1 input.sk-hidden--visually {border: 0;clip: rect(1px 1px 1px 1px);clip: rect(1px, 1px, 1px, 1px);height: 1px;margin: -1px;overflow: hidden;padding: 0;position: absolute;width: 1px;}#sk-container-id-1 div.sk-estimator {font-family: monospace;background-color: #f0f8ff;border: 1px dotted black;border-radius: 0.25em;box-sizing: border-box;margin-bottom: 0.5em;}#sk-container-id-1 div.sk-estimator:hover {background-color: #d4ebff;}#sk-container-id-1 div.sk-parallel-item::after {content: \"\";width: 100%;border-bottom: 1px solid gray;flex-grow: 1;}#sk-container-id-1 div.sk-label:hover label.sk-toggleable__label {background-color: #d4ebff;}#sk-container-id-1 div.sk-serial::before {content: \"\";position: absolute;border-left: 1px solid gray;box-sizing: border-box;top: 0;bottom: 0;left: 50%;z-index: 0;}#sk-container-id-1 div.sk-serial {display: flex;flex-direction: column;align-items: center;background-color: white;padding-right: 0.2em;padding-left: 0.2em;position: relative;}#sk-container-id-1 div.sk-item {position: relative;z-index: 1;}#sk-container-id-1 div.sk-parallel {display: flex;align-items: stretch;justify-content: center;background-color: white;position: relative;}#sk-container-id-1 div.sk-item::before, #sk-container-id-1 div.sk-parallel-item::before {content: \"\";position: absolute;border-left: 1px solid gray;box-sizing: border-box;top: 0;bottom: 0;left: 50%;z-index: -1;}#sk-container-id-1 div.sk-parallel-item {display: flex;flex-direction: column;z-index: 1;position: relative;background-color: white;}#sk-container-id-1 div.sk-parallel-item:first-child::after {align-self: flex-end;width: 50%;}#sk-container-id-1 div.sk-parallel-item:last-child::after {align-self: flex-start;width: 50%;}#sk-container-id-1 div.sk-parallel-item:only-child::after {width: 0;}#sk-container-id-1 div.sk-dashed-wrapped {border: 1px dashed gray;margin: 0 0.4em 0.5em 0.4em;box-sizing: border-box;padding-bottom: 0.4em;background-color: white;}#sk-container-id-1 div.sk-label label {font-family: monospace;font-weight: bold;display: inline-block;line-height: 1.2em;}#sk-container-id-1 div.sk-label-container {text-align: center;}#sk-container-id-1 div.sk-container {/* jupyter's `normalize.less` sets `[hidden] { display: none; }` but bootstrap.min.css set `[hidden] { display: none !important; }` so we also need the `!important` here to be able to override the default hidden behavior on the sphinx rendered scikit-learn.org. See: https://github.com/scikit-learn/scikit-learn/issues/21755 */display: inline-block !important;position: relative;}#sk-container-id-1 div.sk-text-repr-fallback {display: none;}</style><div id=\"sk-container-id-1\" class=\"sk-top-container\"><div class=\"sk-text-repr-fallback\"><pre>RandomizedSearchCV(cv=3,\n",
       "                   estimator=&lt;keras.wrappers.scikit_learn.KerasClassifier object at 0x000001A99811B430&gt;,\n",
       "                   param_distributions={&#x27;dropout_rate&#x27;: [0.2, 0.3, 0.4],\n",
       "                                        &#x27;learning_rate&#x27;: [0.001, 0.01, 0.1],\n",
       "                                        &#x27;optimizer&#x27;: [&#x27;adam&#x27;, &#x27;rmsprop&#x27;],\n",
       "                                        &#x27;rnn_type&#x27;: [&#x27;LSTM&#x27;, &#x27;GRU&#x27;],\n",
       "                                        &#x27;units&#x27;: [32, 64, 128]})</pre><b>In a Jupyter environment, please rerun this cell to show the HTML representation or trust the notebook. <br />On GitHub, the HTML representation is unable to render, please try loading this page with nbviewer.org.</b></div><div class=\"sk-container\" hidden><div class=\"sk-item sk-dashed-wrapped\"><div class=\"sk-label-container\"><div class=\"sk-label sk-toggleable\"><input class=\"sk-toggleable__control sk-hidden--visually\" id=\"sk-estimator-id-1\" type=\"checkbox\" ><label for=\"sk-estimator-id-1\" class=\"sk-toggleable__label sk-toggleable__label-arrow\">RandomizedSearchCV</label><div class=\"sk-toggleable__content\"><pre>RandomizedSearchCV(cv=3,\n",
       "                   estimator=&lt;keras.wrappers.scikit_learn.KerasClassifier object at 0x000001A99811B430&gt;,\n",
       "                   param_distributions={&#x27;dropout_rate&#x27;: [0.2, 0.3, 0.4],\n",
       "                                        &#x27;learning_rate&#x27;: [0.001, 0.01, 0.1],\n",
       "                                        &#x27;optimizer&#x27;: [&#x27;adam&#x27;, &#x27;rmsprop&#x27;],\n",
       "                                        &#x27;rnn_type&#x27;: [&#x27;LSTM&#x27;, &#x27;GRU&#x27;],\n",
       "                                        &#x27;units&#x27;: [32, 64, 128]})</pre></div></div></div><div class=\"sk-parallel\"><div class=\"sk-parallel-item\"><div class=\"sk-item\"><div class=\"sk-label-container\"><div class=\"sk-label sk-toggleable\"><input class=\"sk-toggleable__control sk-hidden--visually\" id=\"sk-estimator-id-2\" type=\"checkbox\" ><label for=\"sk-estimator-id-2\" class=\"sk-toggleable__label sk-toggleable__label-arrow\">estimator: KerasClassifier</label><div class=\"sk-toggleable__content\"><pre>&lt;keras.wrappers.scikit_learn.KerasClassifier object at 0x000001A99811B430&gt;</pre></div></div></div><div class=\"sk-serial\"><div class=\"sk-item\"><div class=\"sk-estimator sk-toggleable\"><input class=\"sk-toggleable__control sk-hidden--visually\" id=\"sk-estimator-id-3\" type=\"checkbox\" ><label for=\"sk-estimator-id-3\" class=\"sk-toggleable__label sk-toggleable__label-arrow\">KerasClassifier</label><div class=\"sk-toggleable__content\"><pre>&lt;keras.wrappers.scikit_learn.KerasClassifier object at 0x000001A99811B430&gt;</pre></div></div></div></div></div></div></div></div></div></div>"
      ],
      "text/plain": [
       "RandomizedSearchCV(cv=3,\n",
       "                   estimator=<keras.wrappers.scikit_learn.KerasClassifier object at 0x000001A99811B430>,\n",
       "                   param_distributions={'dropout_rate': [0.2, 0.3, 0.4],\n",
       "                                        'learning_rate': [0.001, 0.01, 0.1],\n",
       "                                        'optimizer': ['adam', 'rmsprop'],\n",
       "                                        'rnn_type': ['LSTM', 'GRU'],\n",
       "                                        'units': [32, 64, 128]})"
      ]
     },
     "execution_count": 28,
     "metadata": {},
     "output_type": "execute_result"
    }
   ],
   "source": [
    "\n",
    "# Perform RandomizedSearchCV\n",
    "early_stopping = EarlyStopping(monitor='val_loss', patience=3, restore_best_weights=True)  # Stop training when validation loss stops improving for 3 epochs\n",
    "random_search = RandomizedSearchCV(estimator=model, param_distributions=hyperparameters, cv=3, n_iter=10)\n",
    "random_search.fit(sequences_padded, train_df['target'].values, callbacks=[early_stopping])"
   ]
  },
  {
   "cell_type": "code",
   "execution_count": 29,
   "id": "2f0c3ac0-fde9-43e2-98dc-dbf47742fd6a",
   "metadata": {},
   "outputs": [
    {
     "name": "stdout",
     "output_type": "stream",
     "text": [
      "Best parameters found:  {'units': 64, 'rnn_type': 'GRU', 'optimizer': 'adam', 'learning_rate': 0.001, 'dropout_rate': 0.4}\n",
      "Best score:  0.7354527314503988\n"
     ]
    }
   ],
   "source": [
    "print(\"Best parameters found: \", random_search.best_params_)\n",
    "print(\"Best score: \", random_search.best_score_)"
   ]
  },
  {
   "cell_type": "markdown",
   "id": "c64182ed-0a5c-4918-a69e-d3377dc04ef7",
   "metadata": {},
   "source": [
    "The selected hyperparameters, including a unit size of 64, a learning rate of 0.001, a dropout rate of 0.4, and the Adam optimizer, along with the architecture featuring an embedding layer, bidirectional GRU layer, and dense output layer, collectively form an effective model for binary classification tasks. Through randomized search and experimentation, these choices leverage techniques like dropout regularization and bidirectional processing to enhance model generalization and capture intricate sequential patterns. The Adam optimizer further aids in faster convergence by adaptively adjusting learning rates. By monitoring validation metrics and employing techniques such as early stopping, the model's training process is effectively guided to prevent overfitting. This comprehensive approach results in an optimized model configuration capable of achieving improved performance in binary classification scenarios. Further refinements and exploration of alternative architectures could potentially yield even better results."
   ]
  },
  {
   "cell_type": "code",
   "execution_count": 35,
   "id": "253a7084-d999-49c4-a952-aacb2cff99df",
   "metadata": {},
   "outputs": [
    {
     "name": "stdout",
     "output_type": "stream",
     "text": [
      "WARNING:tensorflow:Layer gru_16 will not use cuDNN kernels since it doesn't meet the criteria. It will use a generic GPU kernel as fallback when running on GPU.\n",
      "WARNING:tensorflow:Layer gru_16 will not use cuDNN kernels since it doesn't meet the criteria. It will use a generic GPU kernel as fallback when running on GPU.\n",
      "WARNING:tensorflow:Layer gru_16 will not use cuDNN kernels since it doesn't meet the criteria. It will use a generic GPU kernel as fallback when running on GPU.\n",
      "Model: \"sequential_37\"\n",
      "_________________________________________________________________\n",
      " Layer (type)                Output Shape              Param #   \n",
      "=================================================================\n",
      " embedding_37 (Embedding)    (None, None, 16)          226464    \n",
      "                                                                 \n",
      " bidirectional_33 (Bidirecti  (None, 128)              31488     \n",
      " onal)                                                           \n",
      "                                                                 \n",
      " dense_37 (Dense)            (None, 1)                 129       \n",
      "                                                                 \n",
      "=================================================================\n",
      "Total params: 258,081\n",
      "Trainable params: 258,081\n",
      "Non-trainable params: 0\n",
      "_________________________________________________________________\n"
     ]
    }
   ],
   "source": [
    "learning_rate = 0.001  # as per the best parameters found\n",
    "\n",
    "# Define the optimizer with the specified learning rate\n",
    "optimizer = Adam(learning_rate=learning_rate)\n",
    "\n",
    "# Define the model architecture\n",
    "gru_model = Sequential()\n",
    "gru_model.add(Embedding(input_dim=len(tokenizer.word_index) + 1, output_dim=16))  # Embedding layer with output dimension of 64\n",
    "gru_model.add(Bidirectional(GRU(64, dropout=0.4, recurrent_dropout=0.4)))  # Bidirectional GRU layer with 64 units and dropout of 0.4\n",
    "gru_model.add(Dense(1, activation='sigmoid'))  # Output layer with sigmoid activation for binary classification\n",
    "\n",
    "# Compile the model\n",
    "gru_model.compile(optimizer=optimizer, loss='binary_crossentropy', metrics=['accuracy', custom_f1_score])\n",
    "\n",
    "# Print model summary\n",
    "gru_model.summary()"
   ]
  },
  {
   "cell_type": "code",
   "execution_count": 48,
   "id": "36c60ccb-54cd-44cb-a2b9-fcd946733e29",
   "metadata": {},
   "outputs": [
    {
     "name": "stdout",
     "output_type": "stream",
     "text": [
      "Epoch 1/100\n",
      "191/191 [==============================] - ETA: 0s - loss: 0.1906 - accuracy: 0.9230 - custom_f1_score: 0.9012\n",
      "Epoch 1: val_loss improved from inf to 0.40939, saving model to model_weights.h5\n",
      "191/191 [==============================] - 43s 224ms/step - loss: 0.1906 - accuracy: 0.9230 - custom_f1_score: 0.9012 - val_loss: 0.4094 - val_accuracy: 0.8313 - val_custom_f1_score: 0.7910\n",
      "Epoch 2/100\n",
      "191/191 [==============================] - ETA: 0s - loss: 0.1636 - accuracy: 0.9317 - custom_f1_score: 0.9134\n",
      "Epoch 2: val_loss did not improve from 0.40939\n",
      "191/191 [==============================] - 44s 232ms/step - loss: 0.1636 - accuracy: 0.9317 - custom_f1_score: 0.9134 - val_loss: 0.4386 - val_accuracy: 0.8299 - val_custom_f1_score: 0.7809\n",
      "Epoch 3/100\n",
      "191/191 [==============================] - ETA: 0s - loss: 0.1506 - accuracy: 0.9374 - custom_f1_score: 0.9210\n",
      "Epoch 3: val_loss did not improve from 0.40939\n",
      "191/191 [==============================] - 46s 244ms/step - loss: 0.1506 - accuracy: 0.9374 - custom_f1_score: 0.9210 - val_loss: 0.4666 - val_accuracy: 0.8188 - val_custom_f1_score: 0.7744\n",
      "Epoch 4/100\n",
      "191/191 [==============================] - ETA: 0s - loss: 0.1441 - accuracy: 0.9401 - custom_f1_score: 0.9245\n",
      "Epoch 4: val_loss did not improve from 0.40939\n",
      "191/191 [==============================] - 52s 271ms/step - loss: 0.1441 - accuracy: 0.9401 - custom_f1_score: 0.9245 - val_loss: 0.4849 - val_accuracy: 0.8155 - val_custom_f1_score: 0.7740\n",
      "Epoch 5/100\n",
      "191/191 [==============================] - ETA: 0s - loss: 0.1402 - accuracy: 0.9406 - custom_f1_score: 0.9276\n",
      "Epoch 5: val_loss did not improve from 0.40939\n",
      "191/191 [==============================] - 51s 268ms/step - loss: 0.1402 - accuracy: 0.9406 - custom_f1_score: 0.9276 - val_loss: 0.5122 - val_accuracy: 0.8122 - val_custom_f1_score: 0.7516\n",
      "Epoch 6/100\n",
      "191/191 [==============================] - ETA: 0s - loss: 0.1363 - accuracy: 0.9414 - custom_f1_score: 0.9266\n",
      "Epoch 6: val_loss did not improve from 0.40939\n",
      "191/191 [==============================] - 50s 263ms/step - loss: 0.1363 - accuracy: 0.9414 - custom_f1_score: 0.9266 - val_loss: 0.5124 - val_accuracy: 0.8076 - val_custom_f1_score: 0.7619\n",
      "Epoch 7/100\n",
      "191/191 [==============================] - ETA: 0s - loss: 0.1280 - accuracy: 0.9448 - custom_f1_score: 0.9308\n",
      "Epoch 7: val_loss did not improve from 0.40939\n",
      "191/191 [==============================] - 50s 259ms/step - loss: 0.1280 - accuracy: 0.9448 - custom_f1_score: 0.9308 - val_loss: 0.5943 - val_accuracy: 0.8030 - val_custom_f1_score: 0.7544\n",
      "Epoch 8/100\n",
      "191/191 [==============================] - ETA: 0s - loss: 0.1294 - accuracy: 0.9445 - custom_f1_score: 0.9291\n",
      "Epoch 8: val_loss did not improve from 0.40939\n",
      "191/191 [==============================] - 49s 256ms/step - loss: 0.1294 - accuracy: 0.9445 - custom_f1_score: 0.9291 - val_loss: 0.5719 - val_accuracy: 0.8089 - val_custom_f1_score: 0.7555\n",
      "Epoch 9/100\n",
      "191/191 [==============================] - ETA: 0s - loss: 0.1274 - accuracy: 0.9447 - custom_f1_score: 0.9295\n",
      "Epoch 9: val_loss did not improve from 0.40939\n",
      "191/191 [==============================] - 50s 260ms/step - loss: 0.1274 - accuracy: 0.9447 - custom_f1_score: 0.9295 - val_loss: 0.5991 - val_accuracy: 0.8024 - val_custom_f1_score: 0.7553\n",
      "Epoch 10/100\n",
      "191/191 [==============================] - ETA: 0s - loss: 0.1246 - accuracy: 0.9447 - custom_f1_score: 0.9303\n",
      "Epoch 10: val_loss did not improve from 0.40939\n",
      "191/191 [==============================] - 47s 247ms/step - loss: 0.1246 - accuracy: 0.9447 - custom_f1_score: 0.9303 - val_loss: 0.5684 - val_accuracy: 0.7984 - val_custom_f1_score: 0.7442\n",
      "Epoch 11/100\n",
      "191/191 [==============================] - ETA: 0s - loss: 0.1260 - accuracy: 0.9440 - custom_f1_score: 0.9282\n",
      "Epoch 11: val_loss did not improve from 0.40939\n",
      "191/191 [==============================] - 49s 259ms/step - loss: 0.1260 - accuracy: 0.9440 - custom_f1_score: 0.9282 - val_loss: 0.5873 - val_accuracy: 0.7997 - val_custom_f1_score: 0.7457\n",
      "Epoch 11: early stopping\n",
      "102/102 [==============================] - 3s 30ms/step\n",
      "Best Epoch: 1\n",
      "Best Model Loss: 0.40938520431518555\n",
      "Best Model Accuracy: 0.8312541246414185\n",
      "Best Model f1_score: 0.7910490036010742\n"
     ]
    },
    {
     "data": {
      "image/png": "[encoded data removed]",
      "text/plain": [
       "<Figure size 640x480 with 1 Axes>"
      ]
     },
     "metadata": {},
     "output_type": "display_data"
    }
   ],
   "source": [
    "result = train_model(gru_model)\n",
    "print(f\"Best Epoch: {result[0]}\")\n",
    "print(f\"Best Model Loss: {result[1]}\")\n",
    "print(f\"Best Model Accuracy: {result[2]}\")\n",
    "print(f\"Best Model f1_score: {result[3]}\")"
   ]
  },
  {
   "cell_type": "code",
   "execution_count": 47,
   "id": "b5af7442-54df-4e9b-9f7a-426036517d37",
   "metadata": {},
   "outputs": [
    {
     "name": "stdout",
     "output_type": "stream",
     "text": [
      "48/48 [==============================] - 1s 26ms/step\n"
     ]
    },
    {
     "data": {
      "image/png": "[encoded data removed]",
      "text/plain": [
       "<Figure size 800x600 with 2 Axes>"
      ]
     },
     "metadata": {},
     "output_type": "display_data"
    }
   ],
   "source": [
    "gru_model.load_weights('model_weights.h5')\n",
    "\n",
    "predictions_val = gru_model.predict(X_val)\n",
    "\n",
    "    # Round predictions to binary values\n",
    "binary_predictions_val = np.round(predictions_val).astype(int)\n",
    "\n",
    "cm = confusion_matrix(y_val, binary_predictions_val)\n",
    "\n",
    "    # Plot confusion matrix\n",
    "plt.figure(figsize=(8, 6))\n",
    "sns.heatmap(cm, annot=True, cmap='Blues', fmt='g')\n",
    "plt.xlabel('Predicted')\n",
    "plt.ylabel('True')\n",
    "plt.show()"
   ]
  },
  {
   "cell_type": "code",
   "execution_count": 52,
   "id": "7b408f7b-e6ee-4b54-bd7e-771e68537a0c",
   "metadata": {},
   "outputs": [],
   "source": [
    "results_df.loc[len(results_df.index)] = [\"GRU Model\", result[1], result[2], result[3], 0.77]"
   ]
  },
  {
   "cell_type": "code",
   "execution_count": 53,
   "id": "ce4892e7-80ae-4414-b04d-eae3ae6650c1",
   "metadata": {},
   "outputs": [
    {
     "data": {
      "text/html": [
       "<div>\n",
       "<style scoped>\n",
       "    .dataframe tbody tr th:only-of-type {\n",
       "        vertical-align: middle;\n",
       "    }\n",
       "\n",
       "    .dataframe tbody tr th {\n",
       "        vertical-align: top;\n",
       "    }\n",
       "\n",
       "    .dataframe thead th {\n",
       "        text-align: right;\n",
       "    }\n",
       "</style>\n",
       "<table border=\"1\" class=\"dataframe\">\n",
       "  <thead>\n",
       "    <tr style=\"text-align: right;\">\n",
       "      <th></th>\n",
       "      <th>Model Name</th>\n",
       "      <th>Validation Loss</th>\n",
       "      <th>Validation Accuracy</th>\n",
       "      <th>Validation F1 score</th>\n",
       "      <th>Test F1 score</th>\n",
       "    </tr>\n",
       "  </thead>\n",
       "  <tbody>\n",
       "    <tr>\n",
       "      <th>0</th>\n",
       "      <td>LSTM Model</td>\n",
       "      <td>0.516195</td>\n",
       "      <td>0.767564</td>\n",
       "      <td>0.603217</td>\n",
       "      <td>0.773</td>\n",
       "    </tr>\n",
       "    <tr>\n",
       "      <th>1</th>\n",
       "      <td>Bidirectional LSTM Model</td>\n",
       "      <td>0.490874</td>\n",
       "      <td>0.762311</td>\n",
       "      <td>0.606709</td>\n",
       "      <td>0.770</td>\n",
       "    </tr>\n",
       "    <tr>\n",
       "      <th>2</th>\n",
       "      <td>GRD Model</td>\n",
       "      <td>0.485674</td>\n",
       "      <td>0.776756</td>\n",
       "      <td>0.604871</td>\n",
       "      <td>0.776</td>\n",
       "    </tr>\n",
       "    <tr>\n",
       "      <th>3</th>\n",
       "      <td>GRU Model</td>\n",
       "      <td>0.409385</td>\n",
       "      <td>0.831254</td>\n",
       "      <td>0.791049</td>\n",
       "      <td>0.770</td>\n",
       "    </tr>\n",
       "  </tbody>\n",
       "</table>\n",
       "</div>"
      ],
      "text/plain": [
       "                 Model Name  Validation Loss  Validation Accuracy  \\\n",
       "0                LSTM Model         0.516195             0.767564   \n",
       "1  Bidirectional LSTM Model         0.490874             0.762311   \n",
       "2                 GRD Model         0.485674             0.776756   \n",
       "3                 GRU Model         0.409385             0.831254   \n",
       "\n",
       "   Validation F1 score  Test F1 score  \n",
       "0             0.603217          0.773  \n",
       "1             0.606709          0.770  \n",
       "2             0.604871          0.776  \n",
       "3             0.791049          0.770  "
      ]
     },
     "execution_count": 53,
     "metadata": {},
     "output_type": "execute_result"
    }
   ],
   "source": [
    "results_df "
   ]
  },
  {
   "cell_type": "markdown",
   "id": "4066ab48",
   "metadata": {},
   "source": [
    "\n",
    "The GRU model demonstrated superior performance compared to other tested architectures, with a validation loss of 0.409, validation accuracy of 0.831, and validation F1 score of 0.791. However, its test F1 score remained unchanged at 0.770, indicating limitations in generalization. The bidirectional LSTM model also showed promise, boasting comparable validation metrics but a slightly lower test F1 score. Conversely, the standard LSTM model exhibited inferior performance overall, with higher validation loss and lower accuracy and F1 score.\r\n",
    "\r\n",
    "Upon analyzing the confusion matrix of the GRU model, it's apparent that the model achieved a high true positive rate of 509 for class 1, indicating its effectiveness in correctly identifying positive instances. However, there were also a notable number of false negatives (140), suggesting instances of misclassification for positive cases. The true negative rate of 771 indicates a high number of correct identifications for negative instances, while the false positive rate of 103 implies misclassification for negative cases.\r\n",
    "\r\n",
    "In the hyperparameter optimization procedure, a randomized search explored various combinations of hyperparameters, including unit sizes, learning rates, dropout rates, optimizers, and types of recurrent neural network layers (LSTM or GRU). The objective was to identify the combination maximizing the model's performance metrics on the validation set while preventing overfitting. Through this iterative process, the hyperparameters yielding the best validation performance were identified and applied to construct the GRU model. Future experimentation could involve fine-tuning these hyperparameters or exploring additional architectural modifications to enhance overall performance and generalization capabilities.ies."
   ]
  },
  {
   "cell_type": "markdown",
   "id": "bd34584f",
   "metadata": {},
   "source": [
    "# Conclusion"
   ]
  },
  {
   "cell_type": "markdown",
   "id": "16467463",
   "metadata": {},
   "source": [
    "The findings from our model evaluations offer valuable insights into the efficacy of various architectures and hyperparameters for sentiment analysis tasks. The standout performer was the GRU model, showcasing the highest validation accuracy and F1 score among the tested architectures. However, the consistent test F1 score across all models hints at challenges in generalizing to unseen data.\r\n",
    "\r\n",
    "A crucial lesson learned is the necessity of exploring diverse architectures and hyperparameters to discover the optimal setup for a given task. The success of the bidirectional LSTM model underscores the impact of subtle architectural variations on performance.\r\n",
    "\r\n",
    "While our hyperparameter optimization efforts yielded promising results, there's still scope for refinement. Future endeavors could involve fine-tuning the chosen hyperparameters, experimenting with architectural tweaks like stacking recurrent layers or incorporating attention mechanisms, and exploring techniques such as data augmentation or transfer learning to enhance generalization.\r\n",
    "\r\n",
    "Moreover, we mustn't overlook the influence of dataset characteristics on model performance. Investigating preprocessing techniques like class balancing and text preprocessing methods could further enhance model effectiveness.\r\n",
    "\r\n",
    "In summary, our findings shed light on the factors influencing sentiment analysis model performance and point towards avenues for future research. By continuing to refine architectures, hyperparameters, and preprocessing strategies, we can strive towards more effective sentiment analysis models with improved generalization capabilities for real-world applications.cations."
   ]
  },
  {
   "cell_type": "code",
   "execution_count": null,
   "id": "51c2bdb7-b4a7-4573-ab7f-2c053504868f",
   "metadata": {},
   "outputs": [],
   "source": []
  }
 ],
 "metadata": {
  "kernelspec": {
   "display_name": "Python 3 (ipykernel)",
   "language": "python",
   "name": "python3"
  },
  "language_info": {
   "codemirror_mode": {
    "name": "ipython",
    "version": 3
   },
   "file_extension": ".py",
   "mimetype": "text/x-python",
   "name": "python",
   "nbconvert_exporter": "python",
   "pygments_lexer": "ipython3",
   "version": "3.10.14"
  }
 },
 "nbformat": 4,
 "nbformat_minor": 5
}
